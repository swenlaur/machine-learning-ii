{
 "cells": [
  {
   "cell_type": "markdown",
   "id": "f3396639",
   "metadata": {},
   "source": [
    "# Parameter fitting for Markov random fields\n",
    "\n",
    "In the following toy example we show how one can fit paramaters of the Markov fields and how the result is connected to fitting the model for conditional probability. \n",
    "Our toy model is a chain of four nodes and two parameters $\\alpha$ and $\\delta$ depicted below.\n",
    "\n",
    "<img src = '../illustrations/markov-random-field-1d.png' width=60%>\n",
    "\n",
    "\n",
    "\n",
    "## I. Direct analytical derivation \n",
    "\n",
    "As usual we construct the potential energy function directly.\n",
    "* The deviations from zero are penalised by $\\frac{1}{2}\\cdot\\delta^2 x_{i}^2$.\n",
    "* The differeces between consecutive nodes are penalised by $\\frac{1}{2}\\cdot\\alpha (x_{i}-x_{i+1})^2$.\n",
    "\n",
    "The shape of the energy function guarantees that the resulting unnormalised distribution \n",
    "\n",
    "\\begin{align*}\n",
    "p[x_0,x_1,x_2,x_3]\\propto\\exp\\left(-\\frac{\\delta^2}{2}\\cdot \\sum_{i=0}^3 x_i^2 -\\frac{\\alpha}{2}\\cdot\\sum_{i=0}^2(x_i-x_{i+1})^2\\right)\n",
    "\\end{align*}\n",
    "\n",
    "is a multivariate normal distribution with the inverse covariance matrix\n",
    "\n",
    "\\begin{align*}\n",
    "\\boldsymbol{\\Sigma}^{-1}=\n",
    "\\begin{pmatrix}\n",
    "\\delta^2+\\alpha & -\\alpha          & 0                & 0\\\\\n",
    "-\\alpha         & \\delta^2+2\\alpha & -\\alpha          & 0\\\\\n",
    "0               & -\\alpha          & \\delta^2+2\\alpha & 0\\\\\n",
    "0               & 0                & -\\alpha          & \\delta^2+\\alpha\n",
    "\\end{pmatrix}\n",
    "\\end{align*}\n",
    "\n",
    "As the density of the multivariate normal distribution can be expressed in terms of inverse covariance matrix \n",
    "\n",
    "\\begin{align*}\n",
    "p[\\boldsymbol{x}]=\\frac{1}{(2\\pi)^2}\\cdot \\sqrt{\\det \\boldsymbol{\\Sigma}^{-1}}\\cdot \\exp\\left(-\\frac{1}{2}\\cdot \\boldsymbol{x}^T \\boldsymbol{\\Sigma}^{-1}\\boldsymbol{x}\\right)\n",
    "\\end{align*}\n",
    "\n",
    "we can find normalised density without integrating as \n",
    "\n",
    "\n",
    "\\begin{align*}\n",
    "\\det \\boldsymbol{\\Sigma}^{-1}=4\\alpha^3 \\delta^2 + 10\\alpha^2\\delta^4 + 6\\alpha\\delta^6 + \\delta^8\\enspace.\n",
    "\\end{align*}\n",
    "\n",
    "Consequently, we can find coefficient by looking at the partial derivatives of the log-likelihood\n",
    "\n",
    "\\begin{align*}\n",
    "\\log p[\\boldsymbol{x}] = const + \\frac{1}{2} \\cdot (4\\alpha^3 \\delta^2 + 10\\alpha^2\\delta^4 + 6\\alpha\\delta^6 + \\delta^8) -\\frac{\\delta^2}{2}\\cdot \\sum_{i=0}^3 x_i^2 -\\frac{\\alpha}{2}\\cdot\\sum_{i=0}^2(x_i-x_{i+1})^2\n",
    "\\end{align*}\n",
    "\n",
    "Hence we get equations\n",
    "\n",
    "\\begin{align*}\n",
    "\\frac{\\partial \\log p[\\boldsymbol{x}]}{\\partial \\alpha}&=\n",
    "6\\alpha^2\\delta^2 + 10\\alpha\\delta^4 + 3\\delta^6 -\\frac{1}{2}\\cdot\\sum_{i=0}^2(x_i-x_{i+1})^2=0\\\\\n",
    "\\frac{\\partial \\log p[\\boldsymbol{x}]}{\\partial \\alpha}&=\n",
    "4\\alpha^3\\delta + 20\\alpha^2\\delta^3 + 18\\alpha\\delta^5 + 4\\delta^7\n",
    "-\\delta\\cdot\\sum_{i=0}^3 x_i^2=0\n",
    "\\end{align*}\n",
    "\n",
    "that can be solved for $\\alpha$ and $\\delta$ but not in closed form.\n",
    "\n",
    "**Alternative numerical optimisation  task.**\n",
    "As we can find optimal parameters by maximising the log-likelihood directly which can be restated in terms of potential energy minimisation \n",
    "\n",
    "\\begin{align*}\n",
    "\\Psi-\\frac{1}{2}\\cdot\\ln \\bigl(\\det \\boldsymbol{\\Sigma}^{-1}\\bigr)\\to \\min\n",
    "\\end{align*}\n",
    "\n",
    "As all functions are computable and derivable, we can find $\\alpha$ and $\\delta$ with gradient decent any other optimisation technique.  \n",
    "In principle, a similar formulae holds for any potential function\n",
    "\n",
    "\\begin{align*}\n",
    "\\Psi(\\boldsymbol{x},\\boldsymbol{\\omega}) + \\ln Z(\\boldsymbol{\\omega})\\to \\min\n",
    "\\end{align*}\n",
    "\n",
    "However, for most potential functions we just do not know the normalising constant $Z(\\boldsymbol{\\omega})$. \n"
   ]
  },
  {
   "cell_type": "markdown",
   "id": "5e675e40",
   "metadata": {},
   "source": [
    "### Validation of formulae using Sympy\n",
    "\n",
    "* For obvious reasons one does not want to derive the formulae manually. \n",
    "* We use `sympy` package for this but there are many other computer algebra systems "
   ]
  },
  {
   "cell_type": "code",
   "execution_count": 1,
   "id": "d455183c",
   "metadata": {},
   "outputs": [],
   "source": [
    "import sympy as sp\n",
    "from sympy import Matrix\n",
    "from sympy import Symbol\n",
    "from IPython.display import Math"
   ]
  },
  {
   "cell_type": "code",
   "execution_count": 2,
   "id": "55e96c92",
   "metadata": {},
   "outputs": [],
   "source": [
    "# Introduce variables\n",
    "x0 = Symbol('x_0')\n",
    "x1 = Symbol('x_1')\n",
    "x2 = Symbol('x_2')\n",
    "x3 = Symbol('x_3')\n",
    "\n",
    "a = Symbol('alpha')\n",
    "d = Symbol('delta')"
   ]
  },
  {
   "cell_type": "code",
   "execution_count": 3,
   "id": "b52870d1",
   "metadata": {},
   "outputs": [
    {
     "data": {
      "text/latex": [
       "$\\displaystyle \\Psi_1=\\frac{\\alpha \\left(\\left(x_{0} - x_{1}\\right)^{2} + \\left(x_{1} - x_{2}\\right)^{2} + \\left(x_{2} - x_{3}\\right)^{2}\\right)}{2} + \\frac{\\delta^{2} \\left(x_{0}^{2} + x_{1}^{2} + x_{2}^{2} + x_{3}^{2}\\right)}{2}$"
      ],
      "text/plain": [
       "<IPython.core.display.Math object>"
      ]
     },
     "metadata": {},
     "output_type": "display_data"
    },
    {
     "data": {
      "text/latex": [
       "$\\displaystyle A=\\left[\\begin{matrix}\\alpha + \\delta^{2} & - \\alpha & 0 & 0\\\\- \\alpha & 2 \\alpha + \\delta^{2} & - \\alpha & 0\\\\0 & - \\alpha & 2 \\alpha + \\delta^{2} & - \\alpha\\\\0 & 0 & - \\alpha & \\alpha + \\delta^{2}\\end{matrix}\\right]$"
      ],
      "text/plain": [
       "<IPython.core.display.Math object>"
      ]
     },
     "metadata": {},
     "output_type": "display_data"
    },
    {
     "data": {
      "text/latex": [
       "$\\displaystyle \\Psi_2=\\frac12\\cdot \\boldsymbol{x}^TA\\boldsymbol{x}=\\frac{\\alpha x_{0}^{2}}{2} - \\alpha x_{0} x_{1} + \\alpha x_{1}^{2} - \\alpha x_{1} x_{2} + \\alpha x_{2}^{2} - \\alpha x_{2} x_{3} + \\frac{\\alpha x_{3}^{2}}{2} + \\frac{\\delta^{2} x_{0}^{2}}{2} + \\frac{\\delta^{2} x_{1}^{2}}{2} + \\frac{\\delta^{2} x_{2}^{2}}{2} + \\frac{\\delta^{2} x_{3}^{2}}{2}$"
      ],
      "text/plain": [
       "<IPython.core.display.Math object>"
      ]
     },
     "metadata": {},
     "output_type": "display_data"
    },
    {
     "data": {
      "text/latex": [
       "$\\displaystyle \\Psi_1-\\Psi_2=0$"
      ],
      "text/plain": [
       "<IPython.core.display.Math object>"
      ]
     },
     "metadata": {},
     "output_type": "display_data"
    },
    {
     "data": {
      "text/latex": [
       "$\\displaystyle \\det \\boldsymbol{\\Sigma}^{-1}=4 \\alpha^{3} \\delta^{2} + 10 \\alpha^{2} \\delta^{4} + 6 \\alpha \\delta^{6} + \\delta^{8}$"
      ],
      "text/plain": [
       "<IPython.core.display.Math object>"
      ]
     },
     "metadata": {},
     "output_type": "display_data"
    },
    {
     "data": {
      "text/latex": [
       "$\\displaystyle \\frac{\\partial}{\\partial\\alpha}\\det \\boldsymbol{\\Sigma}^{-1}=12 \\alpha^{2} \\delta^{2} + 20 \\alpha \\delta^{4} + 6 \\delta^{6}$"
      ],
      "text/plain": [
       "<IPython.core.display.Math object>"
      ]
     },
     "metadata": {},
     "output_type": "display_data"
    },
    {
     "data": {
      "text/latex": [
       "$\\displaystyle \\frac{\\partial}{\\partial\\delta}\\det \\boldsymbol{\\Sigma}^{-1}=8 \\alpha^{3} \\delta + 40 \\alpha^{2} \\delta^{3} + 36 \\alpha \\delta^{5} + 8 \\delta^{7}$"
      ],
      "text/plain": [
       "<IPython.core.display.Math object>"
      ]
     },
     "metadata": {},
     "output_type": "display_data"
    }
   ],
   "source": [
    "# Direct formula for the potential function\n",
    "phi_1=d**2/2*(x0**2 + x1**2 + x2**2 + x3**2) + a/2*((x0-x1)**2+(x1-x2)**2+(x2-x3)**2) \n",
    "display(Math(f'\\Psi_1={sp.latex(phi_1)}'))\n",
    "\n",
    "# Potential function as a quadratic form\n",
    "A = Matrix([\n",
    "    [d*d+a, -a,      0,       0],\n",
    "    [-a,    d*d+2*a, -a,      0],\n",
    "    [0,     -a,      d*d+2*a, -a ],\n",
    "    [0,     0,       -a,      d*d+a]\n",
    "])\n",
    "X = Matrix([x0, x1, x2, x3])\n",
    "phi_2 = (X.T * A * X/2)[0]\n",
    "\n",
    "display(Math(f'A={sp.latex(A)}'))\n",
    "display(Math(f'\\Psi_2=\\\\frac{1}{2}\\cdot \\\\boldsymbol{{x}}^TA\\\\boldsymbol{{x}}={sp.latex(sp.expand(phi_2))}'))\n",
    "\n",
    "# Check that both formulae are equal\n",
    "display(Math(f'\\Psi_1-\\Psi_2={sp.expand(phi_1-phi_2)}'))\n",
    "\n",
    "## Determinant of A and its derivatives\n",
    "display(Math(f'\\\\det \\\\boldsymbol{{\\Sigma}}^{{-1}}={sp.latex(A.det())}'))\n",
    "display(Math(f'\\\\frac{{\\\\partial}}{{\\\\partial{sp.latex(a)}}}\\det \\\\boldsymbol{{\\Sigma}}^{{-1}}={sp.latex(sp.diff(A.det(),a))}'))\n",
    "display(Math(f'\\\\frac{{\\\\partial}}{{\\\\partial{sp.latex(d)}}}\\det \\\\boldsymbol{{\\Sigma}}^{{-1}}={sp.latex(sp.diff(A.det(),d))}'))"
   ]
  },
  {
   "cell_type": "markdown",
   "id": "a616dd3b",
   "metadata": {},
   "source": [
    "## II. Conditional distributions\n",
    "\n",
    "Let us now express conditional distribution for $x_1$ and $x_2$ in terms of $\\alpha$ and $\\delta$.\n",
    "For that we can use a trivial observation \n",
    "\n",
    "\\begin{align*}\n",
    "p[x_1|x_0,x_2]=p[x_1|x_0,x_2,x_3]\\propto p[x_0,\\ldots,x_3]\\\\\n",
    "p[x_2|x_1,x_3]=p[x_2|x_0,x_1,x_3]\\propto p[x_0,\\ldots,x_3]\n",
    "\\end{align*}\n",
    "\n",
    "where the proportionality is wrt $x_1$ and $x_2$. \n",
    "Thus, we get\n",
    "\n",
    "\\begin{align*}\n",
    "p[x_1|x_0,x_2]&\\propto\\exp\\left(-\\frac{(\\delta^2+2\\alpha) x_1^2-2\\alpha x_1x_0-2\\alpha x_1x_2}{2}\\right)\n",
    "\\propto\\exp\\left(-\\frac{ \\left(x_1-\\frac{\\alpha (x_0+x_2)}{\\delta^2+2\\alpha}\\right)^2}{\\frac{2}{\\delta^2+2\\alpha}}\\right)\n",
    "\\\\\n",
    "p[x_2|x_1,x_3]&\\propto\\exp\\left(-\\frac{(\\delta^2+2\\alpha) x_2^2-2\\alpha x_1x_2-2\\alpha x_2x_3}{2}\\right)\n",
    "\\propto\\exp\\left(-\\frac{ \\left(x_2-\\frac{\\alpha (x_1+x_3)}{\\delta^2+2\\alpha}\\right)^2}{\\frac{2}{\\delta^2+2\\alpha}}\\right)\n",
    "\\end{align*}\n",
    "\n",
    "which again indicates that the conditional distributions are normal distributions.\n",
    "As the parameters appear in both expressions we should try to maximise the product of conditional probabilities as a result, we have to solve a linear regression task. However, due to the constraints placed by the density function we have to solve the linear regrsttion is in the form $x_{i} = \\gamma(x_{i-1}+x_{i+1})+\\varepsilon$. "
   ]
  },
  {
   "cell_type": "code",
   "execution_count": 8,
   "id": "53548fc4",
   "metadata": {},
   "outputs": [
    {
     "data": {
      "text/latex": [
       "$\\displaystyle \\alpha x_{0}^{2} + 2 \\alpha x_{2}^{2} - 2 \\alpha x_{2} x_{3} + \\alpha x_{3}^{2} + \\delta^{2} x_{0}^{2} + \\delta^{2} x_{2}^{2} + \\delta^{2} x_{3}^{2} + x_{1}^{2} \\cdot \\left(2 \\alpha + \\delta^{2}\\right) + x_{1} \\left(- 2 \\alpha x_{0} - 2 \\alpha x_{2}\\right)$"
      ],
      "text/plain": [
       "alpha*x_0**2 + 2*alpha*x_2**2 - 2*alpha*x_2*x_3 + alpha*x_3**2 + delta**2*x_0**2 + delta**2*x_2**2 + delta**2*x_3**2 + x_1**2*(2*alpha + delta**2) + x_1*(-2*alpha*x_0 - 2*alpha*x_2)"
      ]
     },
     "metadata": {},
     "output_type": "display_data"
    },
    {
     "data": {
      "text/latex": [
       "$\\displaystyle \\alpha x_{0}^{2} - 2 \\alpha x_{0} x_{1} + 2 \\alpha x_{1}^{2} + \\alpha x_{3}^{2} + \\delta^{2} x_{0}^{2} + \\delta^{2} x_{1}^{2} + \\delta^{2} x_{3}^{2} + x_{2}^{2} \\cdot \\left(2 \\alpha + \\delta^{2}\\right) + x_{2} \\left(- 2 \\alpha x_{1} - 2 \\alpha x_{3}\\right)$"
      ],
      "text/plain": [
       "alpha*x_0**2 - 2*alpha*x_0*x_1 + 2*alpha*x_1**2 + alpha*x_3**2 + delta**2*x_0**2 + delta**2*x_1**2 + delta**2*x_3**2 + x_2**2*(2*alpha + delta**2) + x_2*(-2*alpha*x_1 - 2*alpha*x_3)"
      ]
     },
     "metadata": {},
     "output_type": "display_data"
    }
   ],
   "source": [
    "display(sp.collect(sp.expand(2*phi_2), x1))\n",
    "display(sp.collect(sp.expand(2*phi_2), x2))"
   ]
  },
  {
   "cell_type": "markdown",
   "id": "46a593b8",
   "metadata": {},
   "source": [
    "## III. Density from conditional distribution\n",
    "\n",
    "The previous derivation showed that if we build the potential energy function as a quadratic form from few smoothness constraints, the conditional distribution will be a normal distribution and the resulting linear regression task is symmetric. The latter is not surprising as the original density function is symmetric. \n",
    "\n",
    "Let us now condider the reverse task when we fix the conditional distribution \n",
    "\n",
    "\\begin{align*}\n",
    " x_{i}=w_1 x_{i-1} + w_2 x_{i+1}+\\varepsilon_i, \\quad \\varepsilon_i\\sim\\mathcal{N}(0,\\sigma) \n",
    "\\end{align*}\n",
    "\n",
    "and seek for the full distribution. According to the celebrated Hammersley-Clifford theorem, the density function can be expressed\n",
    "\n",
    "\\begin{align*}\n",
    "p[\\boldsymbol{x}]\\propto \\exp\\Bigl(-\\Psi_1(x_0,x_1)-\\Psi_2(x_1, x_2)-\\Psi_3(x_2,x_3)\\Bigr)\\enspace.\n",
    "\\end{align*}\n",
    "\n",
    "As a result we get two ways to express the conditional propability. From the construction we can conclude\n",
    "\n",
    "\\begin{align*}\n",
    "p[x_i|x_{i-1},x_{i+1}]\\propto \\exp\\left(-\\frac{(x_i-w_1x_{i-1}-w_2x_{i+1})}{2\\sigma^2}\\right)\\enspace.\n",
    "\\end{align*}\n",
    "\n",
    "On the other hand, Bayes formula gives\n",
    "\n",
    "\\begin{align*}\n",
    "p[x_i|x_{i-1},x_{i+1}]\\propto p[\\boldsymbol{x}]\\propto\\exp\\Bigl(-\\Psi_i(x_{i-1}, x_{i})-\\Psi_{i+1}(x_i,x_{i+1})\\Bigr)\\enspace.\n",
    "\\end{align*}\n",
    "\n",
    "Thus we get two equalities\n",
    "\n",
    "\\begin{align*}\n",
    "(x_1-w_1x_0-w_2x_2)^2+c_1(x_0,x_2)&=2\\sigma^2 (\\Psi_1(x_0,x_1)+\\Psi_2(x_1,x_2))\\\\\n",
    "(x_2-w_1x_1-w_2x_3)^2+c_2(x_1,x_3)&=2\\sigma^2 (\\Psi_2(x_1,x_2)+\\Psi_3(x_2,x_3))\\\\\n",
    "\\end{align*}\n",
    "\n",
    "where $c_1$ does not depend on $x_1$ and $c_2$ does not depend on $x_2$. We can simplify this further by pushing terms under $c_1(x_0,x_2)$ and $c_2(x_1,x_3)$:\n",
    "\n",
    "\\begin{align*}\n",
    "-2w_{1}x_{0}x_{1} - 2w_{2}x_{1}x_{2} + x_{1}^{2} +c_1(x_0,x_2)&=2\\sigma^2 (\\Psi_1(x_0,x_1)+\\Psi_2(x_1,x_2))\\\\\n",
    "-2w_{1}x_{1}x_{2} - 2w_{2}x_{2}x_{3} + x_{2}^{2} + c_2(x_1,x_3)&=2\\sigma^2 (\\Psi_2(x_1,x_2)+\\Psi_3(x_2,x_3))\\\\\n",
    "\\end{align*}\n",
    "\n",
    "From these equations we get the following constraints\n",
    "\n",
    "\\begin{align*}\n",
    "\\Psi_1(x_0,x_1)&= \\frac{-2w_{1}x_{0}x_{1}}{\\sigma^2} + g_{10}(x_0) + g_{11}(x_1) \\\\\n",
    "\\Psi_2(x_1,x_2)&= \\frac{-2w_{2}x_{1}x_{2}}{\\sigma^2} + g_{20}(x_1) + g_{21}(x_2)\\\\\n",
    "\\Psi_2(x_1,x_2)&= \\frac{-2w_{1}x_{1}x_{2}}{\\sigma^2} + \\bar{g}_{20}(x_1) +\\bar{g}_{21}(x_2)\\\\\n",
    "\\Psi_3(x_2,x_3)&= \\frac{-2w_{2}x_{2}x_{3}}{\\sigma^2} + g_{30}(x_2) + g_{31}(x_3)\\\\\n",
    "\\end{align*}\n",
    "\n",
    "For obvious reasons these constraints can be satisfied only if $w_1=w_2=w$.\n",
    "Under this assumption it is straightforward to come up with a symmetric subpotentials\n",
    "\n",
    "\\begin{align*}\n",
    "\\Psi_1(x_0,x_1)&= \\frac{w(x_0-x_1)^2}{2\\sigma^2} + \\frac{(1-w)x_0^2}{2\\sigma^2} \n",
    "+\\frac{(1-2w)x_1^2}{4\\sigma^2} \\\\\n",
    "\\Psi_2(x_1,x_2)&= \\frac{w(x_1-x_2)^2}{2\\sigma^2} + \\frac{(1-2w)x_1^2}{4\\sigma^2} \n",
    "+\\frac{(1-2w)x_2^2}{4\\sigma^2}\\\\\n",
    "\\Psi_3(x_2,x_3)&= \\frac{w(x_2-x_3)^2}{2\\sigma^2} + \\frac{(1-2w)x_2^2}{4\\sigma^2} \n",
    "+\\frac{(1-w)x_3^2}{2\\sigma^2}\\\\\n",
    "\\end{align*}\n",
    "\n",
    "which gives the same potential function we built from smoothness constraints.\n",
    "Of course this result is expected."
   ]
  },
  {
   "cell_type": "code",
   "execution_count": 59,
   "id": "f30b8eb4",
   "metadata": {},
   "outputs": [
    {
     "data": {
      "text/latex": [
       "$\\displaystyle - \\frac{w x_{0} x_{1}}{\\sigma^{2}} + \\frac{x_{0}^{2}}{2 \\sigma^{2}} + \\frac{0.25 x_{1}^{2}}{\\sigma^{2}}$"
      ],
      "text/plain": [
       "-w*x_0*x_1/sigma**2 + x_0**2/(2*sigma**2) + 0.25*x_1**2/sigma**2"
      ]
     },
     "metadata": {},
     "output_type": "display_data"
    },
    {
     "data": {
      "text/latex": [
       "$\\displaystyle - \\frac{w x_{1} x_{2}}{\\sigma^{2}} + \\frac{0.25 x_{1}^{2}}{\\sigma^{2}} + \\frac{0.25 x_{2}^{2}}{\\sigma^{2}}$"
      ],
      "text/plain": [
       "-w*x_1*x_2/sigma**2 + 0.25*x_1**2/sigma**2 + 0.25*x_2**2/sigma**2"
      ]
     },
     "metadata": {},
     "output_type": "display_data"
    },
    {
     "data": {
      "text/latex": [
       "$\\displaystyle - \\frac{w x_{2} x_{3}}{\\sigma^{2}} + \\frac{0.25 x_{2}^{2}}{\\sigma^{2}} + \\frac{0.5 x_{3}^{2}}{\\sigma^{2}}$"
      ],
      "text/plain": [
       "-w*x_2*x_3/sigma**2 + 0.25*x_2**2/sigma**2 + 0.5*x_3**2/sigma**2"
      ]
     },
     "metadata": {},
     "output_type": "display_data"
    }
   ],
   "source": [
    "w = Symbol('w')\n",
    "display(sp.expand(w/sigma**2*(x0-x1)**2/2 + (1-w)/sigma**2/2*x0**2 + (1/4/sigma**2-w/sigma**2/2)*x1**2))\n",
    "display(sp.expand(w/sigma**2*(x1-x2)**2/2 + (1/4/sigma**2-w/sigma**2/2)*x1**2 + (1/4/sigma**2-w/sigma**2/2)*x2**2))\n",
    "display(sp.expand(w/sigma**2*(x2-x3)**2/2 + (1/4/sigma**2-w/sigma**2/2)*x2**2 + (1/2/sigma**2-w/sigma**2/2)*x3**2))"
   ]
  }
 ],
 "metadata": {
  "kernelspec": {
   "display_name": "Python 3 (ipykernel)",
   "language": "python",
   "name": "python3"
  },
  "language_info": {
   "codemirror_mode": {
    "name": "ipython",
    "version": 3
   },
   "file_extension": ".py",
   "mimetype": "text/x-python",
   "name": "python",
   "nbconvert_exporter": "python",
   "pygments_lexer": "ipython3",
   "version": "3.8.13"
  }
 },
 "nbformat": 4,
 "nbformat_minor": 5
}
