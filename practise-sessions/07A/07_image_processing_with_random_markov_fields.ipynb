{
 "cells": [
  {
   "cell_type": "markdown",
   "metadata": {},
   "source": [
    "# Image processing with Markov random fields\n",
    "\n",
    "Markov random fields (MRFs) are quite good models for image textures as they naturally model local dependencies.\n",
    "\n",
    "<img src = 'illustrations/markov-random-field-i.png' width=100%>\n",
    "\n",
    "\n",
    "The celebrated Hammersley-Clifford theorem fixes the format in which the corresponding probability distribution must be sought:\n",
    "\n",
    "\\begin{align*}\n",
    "p[\\boldsymbol{x}|\\omega]=\\frac{1}{Z(\\omega)}\\cdot\\exp\\Biggl(-\\sum_{c\\in\\textsf{MaxClique}}\\Psi_c(\\boldsymbol{x}_c,\\omega)\\Biggr) \n",
    "\\end{align*} \n",
    "where \n",
    "* $\\omega$ is the set of model parameters\n",
    "* $Z(\\omega)$ is a normalising constant\n",
    "* $\\textsf{MaxClique}$ is the set of maximal cliques in the Markov random field\n",
    "* $\\Psi_c$ is defined on the variables $x_i$ in the clique $c$ "
   ]
  },
  {
   "cell_type": "markdown",
   "metadata": {},
   "source": [
    "### Normal distribution as a probability assignment for the Markov random field\n",
    "\n",
    "The Hammersley-Clifford theorem gives a lot of freedom how one can specify the full distribution $p[\\boldsymbol{x}|\\omega]$. \n",
    "In principle, we could search for optimal potential functions $\\Psi_c$ by estimating \n",
    "\n",
    "\\begin{align*}\n",
    "\\Pr[x_i|(x_j)_{j\\in\\mathsf{Neighbours}(X_i)}]\n",
    "\\end{align*}\n",
    "\n",
    "for all pixels $x_i$ and then fix discrete sub-potentials $\\Psi_c$ that lead to the estimated conditional probabilities. \n",
    "However, the amount of data needed to get reliable estimates for sub-potentials is immense. \n",
    "Hence, the classical approach is to severely restrict the shape of sub-potentials.\n",
    "\n",
    "\n",
    "If we define all individual potentials $\\Psi_c$ as quadratic forms over $\\boldsymbol{x}_c$, the resulting distribution $p[\\boldsymbol{x}|\\omega]$ will be a multivariate normal distribution. \n",
    "The latter allows us to obtain analytical solutions for basic inference tasks that are generally doable with complex MCMC simulation algorithms.\n",
    "The main aim of this tutorial is to demonstrate the remarkable properties of multivariate normal distribution that provide necessary formulae to get the analytical solution.   "
   ]
  },
  {
   "cell_type": "markdown",
   "metadata": {},
   "source": [
    "### Four-dimensional multivariate normal distribution as a solution to 2 x 2 MRF \n",
    "\n",
    "The $2\\times 2$ Markov random field has four edges that are also maximal cliques: $(X_1, X_2)$, $(X_2,X_3)$, $(X_3, X_4)$ and $(X_4, X_1)$.\n",
    "\n",
    "<img src = 'illustrations/markov-random-field-iv.png' width=100%>\n",
    "\n",
    "Let us consider the subpotential $\\Psi_1$ corresponding to the first edge $(X_1,X_2)$. If we restrict $\\Psi_1(x_1,x_2)$ to quadratic forms then the search space is\n",
    "\n",
    "\\begin{align*}\n",
    "\\Psi_1(x_1,x_2)= a_{11} x_1^2+2a_{12}x_1x_2+ a_{22}x_2^2\\enspace\n",
    "\\end{align*}\n",
    "for $a_{11},a_{12},a_{22}\\in\\mathbb{R}$. \n",
    "In most applications, we would like that $x_1\\approx x_2$ and thus we can restrict the search space even more \n",
    "\n",
    "\\begin{align*}\n",
    "\\Psi_1(x_1,x_2)= \\alpha(x_{1}-x_2)^2=\\alpha x_1^2-2\\alpha x_1x_2+\\alpha x_2^2\\enspace\n",
    "\\end{align*}\n",
    "\n",
    "for $\\alpha\\in\\mathbb{R}^+$.\n",
    "Analogous reasoning for the other edges leads to the following subpotentials\n",
    "\n",
    "\\begin{align*}\n",
    "\\Psi_1(x_1,x_2)&= \\alpha_1(x_{1}-x_2)^2=\\alpha_1 x_1^2-2\\alpha_1 x_1x_2+\\alpha_1 x_2^2\\\\\n",
    "\\Psi_2(x_2,x_3)&= \\alpha_2(x_{2}-x_3)^2=\\alpha_2 x_2^2-2\\alpha_2 x_2x_3+\\alpha_2 x_3^2\\\\\n",
    "\\Psi_3(x_3,x_4)&= \\alpha_3(x_{3}-x_4)^2=\\alpha_3 x_3^2-2\\alpha_3 x_3x_4+\\alpha_3 x_4^2\\\\\n",
    "\\Psi_4(x_4,x_1)&= \\alpha_4(x_{4}-x_1)^2=\\alpha_4 x_4^2-2\\alpha_4 x_4x_1+\\alpha_4 x_1^2\\\\\n",
    "\\end{align*}\n",
    "\n",
    "and thus the probability of the entire MRF is\n",
    "\n",
    "\\begin{align*}\n",
    "p[x_1,x_2,x_3,x_4|\\alpha_1,\\alpha_2,\\alpha_3,\\alpha_4]&=\n",
    "\\frac{1}{Z(\\alpha_1,\\alpha_2,\\alpha_3,\\alpha_4)}\\cdot\\exp\\bigl(-\\Psi(x_1,x_2,x_3,x_4)\\bigr)\\\\\n",
    "\\end{align*}\n",
    "\n",
    "where\n",
    "\n",
    "\\begin{align*}\n",
    "\\Psi(x_1,x_2,x_3,x_4)=\n",
    "(\\alpha_1+\\alpha_4) x_1^2+\n",
    "(\\alpha_1+\\alpha_2) x_2^2+\n",
    "(\\alpha_2+\\alpha_3) x_3^2+\n",
    "(\\alpha_3+\\alpha_4) x_4^2\n",
    "-2\\alpha_1 x_1x_2\n",
    "-2\\alpha_2 x_2x_3\n",
    "-2\\alpha_3 x_3x_4\n",
    "-2\\alpha_4 x_4x_1\\enspace.\n",
    "\\end{align*}\n",
    "\n",
    "\n",
    "If we write the potential energy $\\Psi(\\boldsymbol{x})$ using matrix operations we get\n",
    "\n",
    "\\begin{align*}\n",
    "\\Psi(\\boldsymbol{x})=\n",
    "\\boldsymbol{x}^T\n",
    "\\begin{pmatrix}\n",
    "\\alpha_1+\\alpha_4 & -\\alpha_1 & 0 & -\\alpha_4\\\\\n",
    "-\\alpha_1 &\\alpha_1+\\alpha_2 & -\\alpha_2 & 0 \\\\\n",
    "0 &-\\alpha_2 &\\alpha_2+\\alpha_3 & -\\alpha_3 \\\\\n",
    "-\\alpha_4 & 0 &-\\alpha_3 &\\alpha_3+\\alpha_4 \\\\\n",
    "\\end{pmatrix}\n",
    "\\boldsymbol{x} = \\boldsymbol{x}^T\\boldsymbol{A}\\boldsymbol{x} \n",
    "\\end{align*}\n",
    "for a coefficient matrix $\\boldsymbol{A}$.\n",
    "As a four-dimensional multivariate normal distribution has density \n",
    "\n",
    "\\begin{align*}\n",
    "p(\\boldsymbol{x}|\\boldsymbol{\\mu},\\boldsymbol{\\Sigma})\\propto \\exp\\Biggl(-\\frac{1}{2}\\cdot(\\boldsymbol{x}-\\boldsymbol{\\mu})^T\\boldsymbol{\\Sigma}^{-1} (\\boldsymbol{x}-\\boldsymbol{\\mu})\\Biggl)\\enspace,\n",
    "\\end{align*}\n",
    "\n",
    "we get that our probability assignment indeed corresponds to a multivariate normal distribution with parameters $\\boldsymbol{\\mu}=\\boldsymbol{0}$ and $\\boldsymbol{\\Sigma}^{-1}=2\\cdot \\boldsymbol{A}$.\n",
    "Analogous derivation and shape matching with multivariate normal distribution can be done for any Markov random field. That is, based on some intuition we directly fix the inverse covariance matrix of the multivariate normal distribution and then determine the scaling factor $Z(\\omega)$ directly from the density formula.      \n"
   ]
  },
  {
   "cell_type": "code",
   "execution_count": 1,
   "metadata": {},
   "outputs": [],
   "source": [
    "import numpy as np\n",
    "import pandas as pd\n",
    "import scipy.stats as stats\n",
    "import matplotlib.pyplot as plt\n",
    "import sklearn\n",
    "import sys\n",
    "\n",
    "from pandas import Series\n",
    "from pandas import DataFrame\n",
    "from typing import List,Tuple\n",
    "\n",
    "from pandas import Categorical\n",
    "from pandas.api.types import CategoricalDtype\n",
    "\n",
    "from tqdm import tnrange#, tqdm_notebook\n",
    "from plotnine import *\n",
    "\n",
    "# Local imports\n",
    "from common import *\n",
    "from convenience import *"
   ]
  },
  {
   "cell_type": "markdown",
   "metadata": {},
   "source": [
    "## I. Toy example. Homogenous MRF for 3 x 3 grid\n",
    "\n",
    "In the simplest homogenous MRF model each node is influenced by four of its closest neighbours where \n",
    "\n",
    "* the deviations from the mean pixel intensity are penalised by $\\frac{1}{2}\\cdot\\delta^2 x_{ij}$\n",
    "* the differeces in the horisontal direction are penalised by $\\frac{1}{2}\\cdot\\alpha (x_{ij}-x_{i,j+1})^2$\n",
    "* the differeces in the vertical direction are penalised by $\\frac{1}{2}\\cdot\\beta (x_{ij}-x_{i+1,j})^2$\n",
    "\n",
    "In the following we are building the inverse covariance matrix for the $3\\times 3$ grid depicted below.\n",
    "\n",
    "<img src = 'illustrations/markov-random-field-ii.png' width=100%>"
   ]
  },
  {
   "cell_type": "markdown",
   "metadata": {},
   "source": [
    "## II. Shape of the inverse covariance matrix\n",
    "\n",
    "Given that $(a-b)^2 = a^2 -2ab + b^2$, we can capture vertical penalities\n",
    "\n",
    "\\begin{align*}\n",
    "\\Psi_{0,3}+\\Psi_{1,4}+\\Psi_{2,5}=\\frac{\\beta(x_0-x_3)^2+\\beta(x_1-x_4)^2+\\beta(x_2-x_5)^2}{2}\n",
    "\\end{align*}\n",
    "\n",
    "between pairs $x_0, x_3$ and $x_1, x_4$ and $x_2, x_5$ by the matrix\n",
    "\n",
    "\\begin{align*}\n",
    "V=\n",
    "\\begin{pmatrix}\n",
    "+1    & \\;\\;0 & \\;\\;0 &    -1 & \\;\\;0 & \\;\\;0\\\\\n",
    "\\;\\;0 &    +1 & \\;\\;0 & \\;\\;0 &    -1 & \\;\\;0\\\\\n",
    "\\;\\;0 & \\;\\;0 &    +1 & \\;\\;0 & \\;\\;0 &    -1\\\\\n",
    "   -1 & \\;\\;0 & \\;\\;0 &    +1 & \\;\\;0 & \\;\\;0\\\\\n",
    "\\;\\;0 &    -1 & \\;\\;0 & \\;\\;0 &    +1 & \\;\\;0\\\\\n",
    "\\;\\;0 & \\;\\;0 &    -1 & \\;\\;0 & \\;\\;0 &    +1\\\\\n",
    "\\end{pmatrix}\n",
    "\\end{align*}\n",
    "\n",
    "if we ignore the scaling factor $\\beta$. \n",
    "Horizontal penalties \n",
    "\n",
    "\\begin{align*}\n",
    "\\Psi_{0,1}+\\Psi_{3,4}+\\Psi_{6,7}=\\frac{\\alpha(x_0-x_1)^2+\\alpha(x_3-x_4)^2+\\alpha(x_6-x_7)^2}{2}\n",
    "\\end{align*}\n",
    "\n",
    "between pairs $x_0, x_1$ and $x_3, x_4$ and $x_6,x_7$ are captured by the same matrix if we consider a submatrix indexed by rows $[0,3,6,1,4,7]$ and columns $[0,3,6,1,4,7]$ . Thus it is straightforward to construct the inverse covariance matrix $S$. "
   ]
  },
  {
   "cell_type": "code",
   "execution_count": 2,
   "metadata": {},
   "outputs": [
    {
     "data": {
      "text/html": [
       "<div>\n",
       "<style scoped>\n",
       "    .dataframe tbody tr th:only-of-type {\n",
       "        vertical-align: middle;\n",
       "    }\n",
       "\n",
       "    .dataframe tbody tr th {\n",
       "        vertical-align: top;\n",
       "    }\n",
       "\n",
       "    .dataframe thead th {\n",
       "        text-align: right;\n",
       "    }\n",
       "</style>\n",
       "<table border=\"1\" class=\"dataframe\">\n",
       "  <thead>\n",
       "    <tr style=\"text-align: right;\">\n",
       "      <th></th>\n",
       "      <th>0</th>\n",
       "      <th>1</th>\n",
       "      <th>2</th>\n",
       "      <th>3</th>\n",
       "      <th>4</th>\n",
       "      <th>5</th>\n",
       "    </tr>\n",
       "  </thead>\n",
       "  <tbody>\n",
       "    <tr>\n",
       "      <th>0</th>\n",
       "      <td>1.0</td>\n",
       "      <td>0.0</td>\n",
       "      <td>0.0</td>\n",
       "      <td>-1.0</td>\n",
       "      <td>0.0</td>\n",
       "      <td>0.0</td>\n",
       "    </tr>\n",
       "    <tr>\n",
       "      <th>1</th>\n",
       "      <td>0.0</td>\n",
       "      <td>1.0</td>\n",
       "      <td>0.0</td>\n",
       "      <td>0.0</td>\n",
       "      <td>-1.0</td>\n",
       "      <td>0.0</td>\n",
       "    </tr>\n",
       "    <tr>\n",
       "      <th>2</th>\n",
       "      <td>0.0</td>\n",
       "      <td>0.0</td>\n",
       "      <td>1.0</td>\n",
       "      <td>0.0</td>\n",
       "      <td>0.0</td>\n",
       "      <td>-1.0</td>\n",
       "    </tr>\n",
       "    <tr>\n",
       "      <th>3</th>\n",
       "      <td>-1.0</td>\n",
       "      <td>0.0</td>\n",
       "      <td>0.0</td>\n",
       "      <td>1.0</td>\n",
       "      <td>0.0</td>\n",
       "      <td>0.0</td>\n",
       "    </tr>\n",
       "    <tr>\n",
       "      <th>4</th>\n",
       "      <td>0.0</td>\n",
       "      <td>-1.0</td>\n",
       "      <td>0.0</td>\n",
       "      <td>0.0</td>\n",
       "      <td>1.0</td>\n",
       "      <td>0.0</td>\n",
       "    </tr>\n",
       "    <tr>\n",
       "      <th>5</th>\n",
       "      <td>0.0</td>\n",
       "      <td>0.0</td>\n",
       "      <td>-1.0</td>\n",
       "      <td>0.0</td>\n",
       "      <td>0.0</td>\n",
       "      <td>1.0</td>\n",
       "    </tr>\n",
       "  </tbody>\n",
       "</table>\n",
       "</div>"
      ],
      "text/plain": [
       "     0    1    2    3    4    5\n",
       "0  1.0  0.0  0.0 -1.0  0.0  0.0\n",
       "1  0.0  1.0  0.0  0.0 -1.0  0.0\n",
       "2  0.0  0.0  1.0  0.0  0.0 -1.0\n",
       "3 -1.0  0.0  0.0  1.0  0.0  0.0\n",
       "4  0.0 -1.0  0.0  0.0  1.0  0.0\n",
       "5  0.0  0.0 -1.0  0.0  0.0  1.0"
      ]
     },
     "execution_count": 2,
     "metadata": {},
     "output_type": "execute_result"
    }
   ],
   "source": [
    "V = np.identity(6)\n",
    "np.fill_diagonal(V[:,3:], -1)\n",
    "np.fill_diagonal(V[3:,:], -1)\n",
    "DataFrame(V)"
   ]
  },
  {
   "cell_type": "code",
   "execution_count": 3,
   "metadata": {},
   "outputs": [],
   "source": [
    "delta = 1\n",
    "alpha = 2\n",
    "beta = 2"
   ]
  },
  {
   "cell_type": "code",
   "execution_count": 4,
   "metadata": {},
   "outputs": [
    {
     "data": {
      "text/plain": [
       "<matplotlib.image.AxesImage at 0x14a14e670>"
      ]
     },
     "execution_count": 4,
     "metadata": {},
     "output_type": "execute_result"
    },
    {
     "data": {
      "image/png": "[encoded data removed]",
      "text/plain": [
       "<Figure size 1080x1080 with 1 Axes>"
      ]
     },
     "metadata": {
      "needs_background": "light"
     },
     "output_type": "display_data"
    }
   ],
   "source": [
    "S = delta**2 * np.identity(9)\n",
    "plt.figure(figsize=(15,15))\n",
    "plt.subplot(131)\n",
    "plt.imshow(S)"
   ]
  },
  {
   "cell_type": "code",
   "execution_count": 5,
   "metadata": {},
   "outputs": [
    {
     "data": {
      "text/plain": [
       "<matplotlib.image.AxesImage at 0x14a3e5070>"
      ]
     },
     "execution_count": 5,
     "metadata": {},
     "output_type": "execute_result"
    },
    {
     "data": {
      "image/png": "[encoded data removed]",
      "text/plain": [
       "<Figure size 432x288 with 1 Axes>"
      ]
     },
     "metadata": {
      "needs_background": "light"
     },
     "output_type": "display_data"
    }
   ],
   "source": [
    "# Vertical penalties\n",
    "l = [0, 1, 2, 3, 4, 5]\n",
    "S[np.ix_(l,l)] += beta * V \n",
    "plt.imshow(S)"
   ]
  },
  {
   "cell_type": "code",
   "execution_count": 6,
   "metadata": {},
   "outputs": [
    {
     "data": {
      "text/plain": [
       "<matplotlib.image.AxesImage at 0x14a419f70>"
      ]
     },
     "execution_count": 6,
     "metadata": {},
     "output_type": "execute_result"
    },
    {
     "data": {
      "image/png": "[encoded data removed]",
      "text/plain": [
       "<Figure size 432x288 with 1 Axes>"
      ]
     },
     "metadata": {
      "needs_background": "light"
     },
     "output_type": "display_data"
    }
   ],
   "source": [
    "l = [3, 4, 5, 6, 7, 8]\n",
    "S[np.ix_(l,l)] += beta * V \n",
    "plt.subplot(132)\n",
    "plt.imshow(S)"
   ]
  },
  {
   "cell_type": "code",
   "execution_count": 7,
   "metadata": {},
   "outputs": [
    {
     "data": {
      "text/html": [
       "<div>\n",
       "<style scoped>\n",
       "    .dataframe tbody tr th:only-of-type {\n",
       "        vertical-align: middle;\n",
       "    }\n",
       "\n",
       "    .dataframe tbody tr th {\n",
       "        vertical-align: top;\n",
       "    }\n",
       "\n",
       "    .dataframe thead th {\n",
       "        text-align: right;\n",
       "    }\n",
       "</style>\n",
       "<table border=\"1\" class=\"dataframe\">\n",
       "  <thead>\n",
       "    <tr style=\"text-align: right;\">\n",
       "      <th></th>\n",
       "      <th>0</th>\n",
       "      <th>1</th>\n",
       "      <th>2</th>\n",
       "      <th>3</th>\n",
       "      <th>4</th>\n",
       "      <th>5</th>\n",
       "      <th>6</th>\n",
       "      <th>7</th>\n",
       "      <th>8</th>\n",
       "    </tr>\n",
       "  </thead>\n",
       "  <tbody>\n",
       "    <tr>\n",
       "      <th>0</th>\n",
       "      <td>5.0</td>\n",
       "      <td>-2.0</td>\n",
       "      <td>0.0</td>\n",
       "      <td>-2.0</td>\n",
       "      <td>0.0</td>\n",
       "      <td>0.0</td>\n",
       "      <td>0.0</td>\n",
       "      <td>0.0</td>\n",
       "      <td>0.0</td>\n",
       "    </tr>\n",
       "    <tr>\n",
       "      <th>1</th>\n",
       "      <td>-2.0</td>\n",
       "      <td>7.0</td>\n",
       "      <td>-2.0</td>\n",
       "      <td>0.0</td>\n",
       "      <td>-2.0</td>\n",
       "      <td>0.0</td>\n",
       "      <td>0.0</td>\n",
       "      <td>0.0</td>\n",
       "      <td>0.0</td>\n",
       "    </tr>\n",
       "    <tr>\n",
       "      <th>2</th>\n",
       "      <td>0.0</td>\n",
       "      <td>-2.0</td>\n",
       "      <td>5.0</td>\n",
       "      <td>0.0</td>\n",
       "      <td>0.0</td>\n",
       "      <td>-2.0</td>\n",
       "      <td>0.0</td>\n",
       "      <td>0.0</td>\n",
       "      <td>0.0</td>\n",
       "    </tr>\n",
       "    <tr>\n",
       "      <th>3</th>\n",
       "      <td>-2.0</td>\n",
       "      <td>0.0</td>\n",
       "      <td>0.0</td>\n",
       "      <td>7.0</td>\n",
       "      <td>-2.0</td>\n",
       "      <td>0.0</td>\n",
       "      <td>-2.0</td>\n",
       "      <td>0.0</td>\n",
       "      <td>0.0</td>\n",
       "    </tr>\n",
       "    <tr>\n",
       "      <th>4</th>\n",
       "      <td>0.0</td>\n",
       "      <td>-2.0</td>\n",
       "      <td>0.0</td>\n",
       "      <td>-2.0</td>\n",
       "      <td>9.0</td>\n",
       "      <td>-2.0</td>\n",
       "      <td>0.0</td>\n",
       "      <td>-2.0</td>\n",
       "      <td>0.0</td>\n",
       "    </tr>\n",
       "    <tr>\n",
       "      <th>5</th>\n",
       "      <td>0.0</td>\n",
       "      <td>0.0</td>\n",
       "      <td>-2.0</td>\n",
       "      <td>0.0</td>\n",
       "      <td>-2.0</td>\n",
       "      <td>7.0</td>\n",
       "      <td>0.0</td>\n",
       "      <td>0.0</td>\n",
       "      <td>-2.0</td>\n",
       "    </tr>\n",
       "    <tr>\n",
       "      <th>6</th>\n",
       "      <td>0.0</td>\n",
       "      <td>0.0</td>\n",
       "      <td>0.0</td>\n",
       "      <td>-2.0</td>\n",
       "      <td>0.0</td>\n",
       "      <td>0.0</td>\n",
       "      <td>5.0</td>\n",
       "      <td>-2.0</td>\n",
       "      <td>0.0</td>\n",
       "    </tr>\n",
       "    <tr>\n",
       "      <th>7</th>\n",
       "      <td>0.0</td>\n",
       "      <td>0.0</td>\n",
       "      <td>0.0</td>\n",
       "      <td>0.0</td>\n",
       "      <td>-2.0</td>\n",
       "      <td>0.0</td>\n",
       "      <td>-2.0</td>\n",
       "      <td>7.0</td>\n",
       "      <td>-2.0</td>\n",
       "    </tr>\n",
       "    <tr>\n",
       "      <th>8</th>\n",
       "      <td>0.0</td>\n",
       "      <td>0.0</td>\n",
       "      <td>0.0</td>\n",
       "      <td>0.0</td>\n",
       "      <td>0.0</td>\n",
       "      <td>-2.0</td>\n",
       "      <td>0.0</td>\n",
       "      <td>-2.0</td>\n",
       "      <td>5.0</td>\n",
       "    </tr>\n",
       "  </tbody>\n",
       "</table>\n",
       "</div>"
      ],
      "text/plain": [
       "     0    1    2    3    4    5    6    7    8\n",
       "0  5.0 -2.0  0.0 -2.0  0.0  0.0  0.0  0.0  0.0\n",
       "1 -2.0  7.0 -2.0  0.0 -2.0  0.0  0.0  0.0  0.0\n",
       "2  0.0 -2.0  5.0  0.0  0.0 -2.0  0.0  0.0  0.0\n",
       "3 -2.0  0.0  0.0  7.0 -2.0  0.0 -2.0  0.0  0.0\n",
       "4  0.0 -2.0  0.0 -2.0  9.0 -2.0  0.0 -2.0  0.0\n",
       "5  0.0  0.0 -2.0  0.0 -2.0  7.0  0.0  0.0 -2.0\n",
       "6  0.0  0.0  0.0 -2.0  0.0  0.0  5.0 -2.0  0.0\n",
       "7  0.0  0.0  0.0  0.0 -2.0  0.0 -2.0  7.0 -2.0\n",
       "8  0.0  0.0  0.0  0.0  0.0 -2.0  0.0 -2.0  5.0"
      ]
     },
     "metadata": {},
     "output_type": "display_data"
    },
    {
     "data": {
      "image/png": "[encoded data removed]",
      "text/plain": [
       "<Figure size 432x288 with 1 Axes>"
      ]
     },
     "metadata": {
      "needs_background": "light"
     },
     "output_type": "display_data"
    }
   ],
   "source": [
    "# Horizontal penalties\n",
    "l = [0, 3, 6, 1, 4, 7]\n",
    "S[np.ix_(l,l)] += alpha * V \n",
    "l = [1, 4, 7, 2, 5, 8]\n",
    "S[np.ix_(l,l)] += alpha * V \n",
    "plt.subplot(133)\n",
    "plt.imshow(S)\n",
    "\n",
    "display(DataFrame(S))"
   ]
  },
  {
   "cell_type": "markdown",
   "metadata": {},
   "source": [
    "As you can see the resulting matrix is penta-diagonal with quite a simple structure and we can easily synthesise it. "
   ]
  },
  {
   "cell_type": "code",
   "execution_count": 8,
   "metadata": {},
   "outputs": [],
   "source": [
    "def inverse_covariance_matrix(alpha: float, beta:float, delta:float) -> np.array: \n",
    "    \"\"\"\n",
    "    Given parameters assembles inverse covariance matrix for 3 x 3 grid \n",
    "    \"\"\"\n",
    "    \n",
    "    # Intensity deviation penalties\n",
    "    S = delta**2 * np.identity(9)\n",
    "\n",
    "    # Vertical penalties\n",
    "    l = [0, 1, 2, 3, 4, 5]\n",
    "    S[np.ix_(l,l)] += beta * V \n",
    "    l = [3, 4, 5, 6, 7, 8]\n",
    "    S[np.ix_(l,l)] += beta * V \n",
    "\n",
    "    # Horizontal penalties\n",
    "    l = [0, 3, 6, 1, 4, 7]\n",
    "    S[np.ix_(l,l)] += alpha * V \n",
    "    l = [1, 4, 7, 2, 5, 8]\n",
    "    S[np.ix_(l,l)] += alpha * V \n",
    "    \n",
    "    return S"
   ]
  },
  {
   "cell_type": "markdown",
   "metadata": {},
   "source": [
    "Some inverse covariance matrices with their inverses – covariance matrices.  "
   ]
  },
  {
   "cell_type": "code",
   "execution_count": 9,
   "metadata": {},
   "outputs": [
    {
     "data": {
      "text/html": [
       "<div>\n",
       "<style scoped>\n",
       "    .dataframe tbody tr th:only-of-type {\n",
       "        vertical-align: middle;\n",
       "    }\n",
       "\n",
       "    .dataframe tbody tr th {\n",
       "        vertical-align: top;\n",
       "    }\n",
       "\n",
       "    .dataframe thead th {\n",
       "        text-align: right;\n",
       "    }\n",
       "</style>\n",
       "<table border=\"1\" class=\"dataframe\">\n",
       "  <thead>\n",
       "    <tr style=\"text-align: right;\">\n",
       "      <th></th>\n",
       "      <th>0</th>\n",
       "      <th>1</th>\n",
       "      <th>2</th>\n",
       "      <th>3</th>\n",
       "      <th>4</th>\n",
       "      <th>5</th>\n",
       "      <th>6</th>\n",
       "      <th>7</th>\n",
       "      <th>8</th>\n",
       "    </tr>\n",
       "  </thead>\n",
       "  <tbody>\n",
       "    <tr>\n",
       "      <th>0</th>\n",
       "      <td>0.900070</td>\n",
       "      <td>0.512579</td>\n",
       "      <td>0.371966</td>\n",
       "      <td>0.512579</td>\n",
       "      <td>0.393846</td>\n",
       "      <td>0.324344</td>\n",
       "      <td>0.371966</td>\n",
       "      <td>0.324344</td>\n",
       "      <td>0.288306</td>\n",
       "    </tr>\n",
       "    <tr>\n",
       "      <th>1</th>\n",
       "      <td>0.512579</td>\n",
       "      <td>0.759457</td>\n",
       "      <td>0.512579</td>\n",
       "      <td>0.393846</td>\n",
       "      <td>0.443077</td>\n",
       "      <td>0.393846</td>\n",
       "      <td>0.324344</td>\n",
       "      <td>0.335928</td>\n",
       "      <td>0.324344</td>\n",
       "    </tr>\n",
       "    <tr>\n",
       "      <th>2</th>\n",
       "      <td>0.371966</td>\n",
       "      <td>0.512579</td>\n",
       "      <td>0.900070</td>\n",
       "      <td>0.324344</td>\n",
       "      <td>0.393846</td>\n",
       "      <td>0.512579</td>\n",
       "      <td>0.288306</td>\n",
       "      <td>0.324344</td>\n",
       "      <td>0.371966</td>\n",
       "    </tr>\n",
       "    <tr>\n",
       "      <th>3</th>\n",
       "      <td>0.512579</td>\n",
       "      <td>0.393846</td>\n",
       "      <td>0.324344</td>\n",
       "      <td>0.759457</td>\n",
       "      <td>0.443077</td>\n",
       "      <td>0.335928</td>\n",
       "      <td>0.512579</td>\n",
       "      <td>0.393846</td>\n",
       "      <td>0.324344</td>\n",
       "    </tr>\n",
       "    <tr>\n",
       "      <th>4</th>\n",
       "      <td>0.393846</td>\n",
       "      <td>0.443077</td>\n",
       "      <td>0.393846</td>\n",
       "      <td>0.443077</td>\n",
       "      <td>0.652308</td>\n",
       "      <td>0.443077</td>\n",
       "      <td>0.393846</td>\n",
       "      <td>0.443077</td>\n",
       "      <td>0.393846</td>\n",
       "    </tr>\n",
       "    <tr>\n",
       "      <th>5</th>\n",
       "      <td>0.324344</td>\n",
       "      <td>0.393846</td>\n",
       "      <td>0.512579</td>\n",
       "      <td>0.335928</td>\n",
       "      <td>0.443077</td>\n",
       "      <td>0.759457</td>\n",
       "      <td>0.324344</td>\n",
       "      <td>0.393846</td>\n",
       "      <td>0.512579</td>\n",
       "    </tr>\n",
       "    <tr>\n",
       "      <th>6</th>\n",
       "      <td>0.371966</td>\n",
       "      <td>0.324344</td>\n",
       "      <td>0.288306</td>\n",
       "      <td>0.512579</td>\n",
       "      <td>0.393846</td>\n",
       "      <td>0.324344</td>\n",
       "      <td>0.900070</td>\n",
       "      <td>0.512579</td>\n",
       "      <td>0.371966</td>\n",
       "    </tr>\n",
       "    <tr>\n",
       "      <th>7</th>\n",
       "      <td>0.324344</td>\n",
       "      <td>0.335928</td>\n",
       "      <td>0.324344</td>\n",
       "      <td>0.393846</td>\n",
       "      <td>0.443077</td>\n",
       "      <td>0.393846</td>\n",
       "      <td>0.512579</td>\n",
       "      <td>0.759457</td>\n",
       "      <td>0.512579</td>\n",
       "    </tr>\n",
       "    <tr>\n",
       "      <th>8</th>\n",
       "      <td>0.288306</td>\n",
       "      <td>0.324344</td>\n",
       "      <td>0.371966</td>\n",
       "      <td>0.324344</td>\n",
       "      <td>0.393846</td>\n",
       "      <td>0.512579</td>\n",
       "      <td>0.371966</td>\n",
       "      <td>0.512579</td>\n",
       "      <td>0.900070</td>\n",
       "    </tr>\n",
       "  </tbody>\n",
       "</table>\n",
       "</div>"
      ],
      "text/plain": [
       "          0         1         2         3         4         5         6  \\\n",
       "0  0.900070  0.512579  0.371966  0.512579  0.393846  0.324344  0.371966   \n",
       "1  0.512579  0.759457  0.512579  0.393846  0.443077  0.393846  0.324344   \n",
       "2  0.371966  0.512579  0.900070  0.324344  0.393846  0.512579  0.288306   \n",
       "3  0.512579  0.393846  0.324344  0.759457  0.443077  0.335928  0.512579   \n",
       "4  0.393846  0.443077  0.393846  0.443077  0.652308  0.443077  0.393846   \n",
       "5  0.324344  0.393846  0.512579  0.335928  0.443077  0.759457  0.324344   \n",
       "6  0.371966  0.324344  0.288306  0.512579  0.393846  0.324344  0.900070   \n",
       "7  0.324344  0.335928  0.324344  0.393846  0.443077  0.393846  0.512579   \n",
       "8  0.288306  0.324344  0.371966  0.324344  0.393846  0.512579  0.371966   \n",
       "\n",
       "          7         8  \n",
       "0  0.324344  0.288306  \n",
       "1  0.335928  0.324344  \n",
       "2  0.324344  0.371966  \n",
       "3  0.393846  0.324344  \n",
       "4  0.443077  0.393846  \n",
       "5  0.393846  0.512579  \n",
       "6  0.512579  0.371966  \n",
       "7  0.759457  0.512579  \n",
       "8  0.512579  0.900070  "
      ]
     },
     "metadata": {},
     "output_type": "display_data"
    },
    {
     "data": {
      "image/png": "[encoded data removed]",
      "text/plain": [
       "<Figure size 1080x1080 with 6 Axes>"
      ]
     },
     "metadata": {
      "needs_background": "light"
     },
     "output_type": "display_data"
    }
   ],
   "source": [
    "plt.figure(figsize=(15,15))\n",
    "plt.subplot(241)\n",
    "plt.imshow(inverse_covariance_matrix(0,0,1), cmap='coolwarm')\n",
    "plt.subplot(242)\n",
    "plt.imshow(inverse_covariance_matrix(1,0,0), cmap='coolwarm')\n",
    "plt.subplot(243)\n",
    "plt.imshow(inverse_covariance_matrix(0,1,0), cmap='coolwarm')\n",
    "plt.subplot(244)\n",
    "plt.imshow(inverse_covariance_matrix(1,1,0.5), cmap='coolwarm')\n",
    "plt.subplot(245)\n",
    "plt.imshow(np.linalg.inv(inverse_covariance_matrix(0,0,1)), cmap='coolwarm')\n",
    "plt.subplot(248)\n",
    "plt.imshow(np.linalg.inv(inverse_covariance_matrix(1,1,.5)),cmap='coolwarm')\n",
    "display(DataFrame(np.linalg.inv(inverse_covariance_matrix(1,1,.5))))"
   ]
  },
  {
   "cell_type": "markdown",
   "metadata": {},
   "source": [
    "It's worth noting that the covariance matrix is quite dispersed – all pixels are correlated with each other and all correlations are positive."
   ]
  },
  {
   "cell_type": "markdown",
   "metadata": {},
   "source": [
    "## III. Texture sampling with multivariate normal distribution\n",
    "\n",
    "As we know the inverse covariance matrix is enough to determine the entire multivariate normal distribution. The following code generates patches from the $3\\times 3$ MRF with different parameters. "
   ]
  },
  {
   "cell_type": "code",
   "execution_count": 10,
   "metadata": {},
   "outputs": [],
   "source": [
    "def sample_mrf(m:int, alpha:float, beta:float, delta:float):\n",
    "    \"\"\"\n",
    "    Samples m x m patches from the MRF specified by alpha, beta, delta.\n",
    "    \n",
    "    Aborts if the inverse covariance matrix cannot be inverted correctly. \n",
    "    Numeric stability check was taken from \n",
    "    https://stackoverflow.com/questions/13249108/efficient-pythonic-check-for-singular-matrix\n",
    "    \"\"\"\n",
    "    \n",
    "    S = inverse_covariance_matrix(alpha, beta, delta)\n",
    "    \n",
    "    if np.linalg.cond(S) > 1/sys.float_info.epsilon:\n",
    "        print('Ill-conditioned inverse covariance matrix')\n",
    "        return\n",
    "    \n",
    "    distr = stats.multivariate_normal(cov=np.linalg.inv(S))\n",
    "    patches = distr.rvs(m * m)\n",
    "    \n",
    "    X = np.full([4 *  m + 1, 4 * m + 1], np.nan)\n",
    "    for i in range(m):\n",
    "        for j in range(m):\n",
    "            X[i*4+1 : i*4+4, j*4+1 : j*4+4] = patches[i * m + j].reshape(3,3)    \n",
    "    \n",
    "    \n",
    "    cmap=plt.get_cmap('Greys')\n",
    "    cmap.set_bad(color='Olive')\n",
    "    plt.imshow(X, cmap=cmap, vmin = -4, vmax = 4)"
   ]
  },
  {
   "cell_type": "code",
   "execution_count": 11,
   "metadata": {},
   "outputs": [
    {
     "name": "stderr",
     "output_type": "stream",
     "text": [
      "/var/folders/cr/l8g02vwn2t14h_vldc4bdvyh0000gn/T/ipykernel_27772/3664909480.py:26: MatplotlibDeprecationWarning: You are modifying the state of a globally registered colormap. This has been deprecated since 3.3 and in 3.6, you will not be able to modify a registered colormap in-place. To remove this warning, you can make a copy of the colormap first. cmap = mpl.cm.get_cmap(\"Greys\").copy()\n"
     ]
    },
    {
     "data": {
      "image/png": "[encoded data removed]",
      "text/plain": [
       "<Figure size 1080x1080 with 9 Axes>"
      ]
     },
     "metadata": {
      "needs_background": "light"
     },
     "output_type": "display_data"
    }
   ],
   "source": [
    "plt.figure(figsize=(15,15))\n",
    "plt.subplot(331)\n",
    "sample_mrf(10, 1,1,10)\n",
    "plt.subplot(332)\n",
    "sample_mrf(10, 1,1,1)\n",
    "plt.subplot(333)\n",
    "sample_mrf(10, 1,1,0.1)\n",
    "\n",
    "plt.subplot(334)\n",
    "sample_mrf(10, 1,0,10)\n",
    "plt.subplot(335)\n",
    "sample_mrf(10, 1,0,1)\n",
    "plt.subplot(336)\n",
    "sample_mrf(10, 1,0,0.1)\n",
    "\n",
    "plt.subplot(337)\n",
    "sample_mrf(10, 0,1,10)\n",
    "plt.subplot(338)\n",
    "sample_mrf(10, 0,1,1)\n",
    "plt.subplot(339)\n",
    "sample_mrf(10, 0,1,0.1)"
   ]
  },
  {
   "cell_type": "code",
   "execution_count": 12,
   "metadata": {},
   "outputs": [
    {
     "name": "stderr",
     "output_type": "stream",
     "text": [
      "/var/folders/cr/l8g02vwn2t14h_vldc4bdvyh0000gn/T/ipykernel_27772/3664909480.py:26: MatplotlibDeprecationWarning: You are modifying the state of a globally registered colormap. This has been deprecated since 3.3 and in 3.6, you will not be able to modify a registered colormap in-place. To remove this warning, you can make a copy of the colormap first. cmap = mpl.cm.get_cmap(\"Greys\").copy()\n"
     ]
    },
    {
     "data": {
      "image/png": "[encoded data removed]",
      "text/plain": [
       "<Figure size 1080x1080 with 3 Axes>"
      ]
     },
     "metadata": {
      "needs_background": "light"
     },
     "output_type": "display_data"
    }
   ],
   "source": [
    "plt.figure(figsize=(15,15))\n",
    "plt.subplot(131)\n",
    "sample_mrf(10, 0,0,10)\n",
    "plt.subplot(132)\n",
    "sample_mrf(10, 0,0,1)\n",
    "plt.subplot(133)\n",
    "sample_mrf(10, 0,0,0.1)"
   ]
  },
  {
   "cell_type": "markdown",
   "metadata": {},
   "source": [
    "## IV. Image recovery from a few pixels\n",
    "\n",
    "Suppose that we know the values of $x_0,x_1,x_2$ and want to reconstruct the entire $3\\times 3$ grid.\n",
    "Then $x_3,\\ldots,x_8|x_0,\\ldots, x_2$ is also a normal distribution and the parameters can be determined from the following lemma.\n",
    "\n",
    "**Lemma**. Assume that $\\boldsymbol{x}\\sim\\mathcal{N}(\\boldsymbol{\\mu},\\boldsymbol{\\Sigma})$ with the following decomposition:\n",
    "\n",
    "\\begin{align*}\n",
    "\\boldsymbol{x}&=\n",
    "\\begin{pmatrix}\n",
    "\\boldsymbol{x}_1\\\\\n",
    "\\boldsymbol{x}_2\n",
    "\\end{pmatrix}\\enspace,\n",
    "&\n",
    "\\boldsymbol{\\mu}&=\n",
    "\\begin{pmatrix}\n",
    "\\boldsymbol{\\mu}_1\\\\\n",
    "\\boldsymbol{\\mu}_2\n",
    "\\end{pmatrix}\\enspace,\n",
    "&\n",
    "\\boldsymbol{\\Sigma}&=\n",
    "\\begin{pmatrix}\n",
    "\\boldsymbol{\\Sigma}_{1} & \\boldsymbol{\\Sigma}_{*} \\\\\n",
    "\\boldsymbol{\\Sigma}_*^T & \\boldsymbol{\\Sigma}_{2}\n",
    "\\end{pmatrix}\\enspace.\n",
    "\\end{align*}\n",
    "\n",
    "Then $\\boldsymbol{x}_2|\\boldsymbol{x}_1\\sim\\mathcal{N}(\\boldsymbol{\\mu}_\\circ, \\boldsymbol{\\Sigma}_\\circ)$ where the  parameters can be computed as follows:\n",
    "\n",
    "\\begin{align*}\n",
    "\\boldsymbol{\\mu}_\\circ &= \\boldsymbol{\\mu}_2 + \\boldsymbol{\\Sigma_*^T}\\boldsymbol{\\Sigma_1^{-1}}(\\boldsymbol{x}_1-\\boldsymbol{\\mu}_1)\\enspace,\n",
    "\\\\\n",
    "\\boldsymbol{\\Sigma}_\\circ&=\\boldsymbol{\\Sigma}_2 - \\boldsymbol{\\Sigma_*^T}\\boldsymbol{\\Sigma_1^{-1}}\\boldsymbol{\\Sigma}_*\\enspace.\n",
    "\\end{align*}\n"
   ]
  },
  {
   "cell_type": "code",
   "execution_count": 13,
   "metadata": {},
   "outputs": [],
   "source": [
    "S = inverse_covariance_matrix(1, 1, 1)\n",
    "C = np.linalg.inv(S)"
   ]
  },
  {
   "cell_type": "markdown",
   "metadata": {},
   "source": [
    "Let us recover the image provided that the top row is $(0,1,0)$."
   ]
  },
  {
   "cell_type": "code",
   "execution_count": 14,
   "metadata": {},
   "outputs": [
    {
     "data": {
      "text/html": [
       "<table style=\"display:inline\"><tr><td style=\"text-align:center\">$\\mu_\\circ$</td><td style=\"text-align:center\">$\\Sigma_\\circ$</td></tr><tr><td style=\"vertical-align:top\"> <table style=\"display:inline\" border=\"1\" class=\"dataframe\">\n",
       "  <thead>\n",
       "    <tr style=\"text-align: right;\">\n",
       "      <th>0</th>\n",
       "    </tr>\n",
       "  </thead>\n",
       "  <tbody>\n",
       "    <tr>\n",
       "      <td>0.075862</td>\n",
       "    </tr>\n",
       "    <tr>\n",
       "      <td>0.248276</td>\n",
       "    </tr>\n",
       "    <tr>\n",
       "      <td>0.075862</td>\n",
       "    </tr>\n",
       "    <tr>\n",
       "      <td>0.055172</td>\n",
       "    </tr>\n",
       "    <tr>\n",
       "      <td>0.089655</td>\n",
       "    </tr>\n",
       "    <tr>\n",
       "      <td>0.055172</td>\n",
       "    </tr>\n",
       "  </tbody>\n",
       "</table style=\"display:inline\"></td><td style=\"vertical-align:top\"> <table style=\"display:inline\" border=\"1\" class=\"dataframe\">\n",
       "  <thead>\n",
       "    <tr style=\"text-align: right;\">\n",
       "      <th>0</th>\n",
       "      <th>1</th>\n",
       "      <th>2</th>\n",
       "      <th>3</th>\n",
       "      <th>4</th>\n",
       "      <th>5</th>\n",
       "    </tr>\n",
       "  </thead>\n",
       "  <tbody>\n",
       "    <tr>\n",
       "      <td>0.298433</td>\n",
       "      <td>0.075862</td>\n",
       "      <td>0.025705</td>\n",
       "      <td>0.117868</td>\n",
       "      <td>0.055172</td>\n",
       "      <td>0.026959</td>\n",
       "    </tr>\n",
       "    <tr>\n",
       "      <td>0.075862</td>\n",
       "      <td>0.248276</td>\n",
       "      <td>0.075862</td>\n",
       "      <td>0.055172</td>\n",
       "      <td>0.089655</td>\n",
       "      <td>0.055172</td>\n",
       "    </tr>\n",
       "    <tr>\n",
       "      <td>0.025705</td>\n",
       "      <td>0.075862</td>\n",
       "      <td>0.298433</td>\n",
       "      <td>0.026959</td>\n",
       "      <td>0.055172</td>\n",
       "      <td>0.117868</td>\n",
       "    </tr>\n",
       "    <tr>\n",
       "      <td>0.117868</td>\n",
       "      <td>0.055172</td>\n",
       "      <td>0.026959</td>\n",
       "      <td>0.416301</td>\n",
       "      <td>0.131034</td>\n",
       "      <td>0.052665</td>\n",
       "    </tr>\n",
       "    <tr>\n",
       "      <td>0.055172</td>\n",
       "      <td>0.089655</td>\n",
       "      <td>0.055172</td>\n",
       "      <td>0.131034</td>\n",
       "      <td>0.337931</td>\n",
       "      <td>0.131034</td>\n",
       "    </tr>\n",
       "    <tr>\n",
       "      <td>0.026959</td>\n",
       "      <td>0.055172</td>\n",
       "      <td>0.117868</td>\n",
       "      <td>0.052665</td>\n",
       "      <td>0.131034</td>\n",
       "      <td>0.416301</td>\n",
       "    </tr>\n",
       "  </tbody>\n",
       "</table style=\"display:inline\"></td></tr></table style=\"display:inline\">"
      ]
     },
     "metadata": {},
     "output_type": "display_data"
    }
   ],
   "source": [
    "x1 = np.array([0,1,0])\n",
    "mu = np.dot(C[3:,:3], np.dot(np.linalg.inv(C[:3,:3]), x1))\n",
    "Sigma = C[3:, 3:] - np.dot(C[3:,:3], np.dot(np.linalg.inv(C[:3,:3]), C[:3,3:]))\n",
    "mdisplay([DataFrame(mu), DataFrame(Sigma)], ['$\\mu_\\circ$', '$\\Sigma_\\circ$'])"
   ]
  },
  {
   "cell_type": "code",
   "execution_count": 15,
   "metadata": {},
   "outputs": [],
   "source": [
    "def sample_mrf_recovery(m:int, alpha:float, beta:float, delta:float, x1: np.array):\n",
    "    \"\"\"\n",
    "    Samples m x m patches from the MRF specified by alpha, beta, delta and the first row.\n",
    "    \n",
    "    Aborts if the inverse covariance matrix cannot be inverted correctly. \n",
    "    Numeric stability check was taken from \n",
    "    https://stackoverflow.com/questions/13249108/efficient-pythonic-check-for-singular-matrix\n",
    "    \"\"\"\n",
    "    \n",
    "    S = inverse_covariance_matrix(alpha, beta, delta)\n",
    "    \n",
    "    if np.linalg.cond(S) > 1/sys.float_info.epsilon:\n",
    "        print('Ill-conditioned inverse covariance matrix')\n",
    "        return\n",
    "    \n",
    "    C = np.linalg.inv(S)\n",
    "    \n",
    "    mu = np.dot(C[3:,:3], np.dot(np.linalg.inv(C[:3,:3]), x1))\n",
    "    Sigma = C[3:, 3:] - np.dot(C[3:,:3], np.dot(np.linalg.inv(C[:3,:3]), C[:3,3:]))\n",
    "    \n",
    "    distr = stats.multivariate_normal(mean=mu, cov=Sigma)\n",
    "    patches = distr.rvs(m * m)\n",
    "    \n",
    "    X = np.full([4 *  m + 1, 4 * m + 1], np.nan)\n",
    "    for i in range(m):\n",
    "        for j in range(m):\n",
    "            X[i*4+1 : i*4+4, j*4+1 : j*4+4] = np.concatenate((x1,patches[i * m + j])).reshape(3,3)    \n",
    "    \n",
    "    \n",
    "    cmap=plt.get_cmap('Greys')\n",
    "    cmap.set_bad(color='Olive')\n",
    "    plt.imshow(X, cmap=cmap, vmin = -4, vmax = 4)"
   ]
  },
  {
   "cell_type": "code",
   "execution_count": 16,
   "metadata": {},
   "outputs": [
    {
     "name": "stderr",
     "output_type": "stream",
     "text": [
      "/var/folders/cr/l8g02vwn2t14h_vldc4bdvyh0000gn/T/ipykernel_27772/221209405.py:31: MatplotlibDeprecationWarning: You are modifying the state of a globally registered colormap. This has been deprecated since 3.3 and in 3.6, you will not be able to modify a registered colormap in-place. To remove this warning, you can make a copy of the colormap first. cmap = mpl.cm.get_cmap(\"Greys\").copy()\n"
     ]
    },
    {
     "data": {
      "image/png": "[encoded data removed]",
      "text/plain": [
       "<Figure size 1080x1080 with 9 Axes>"
      ]
     },
     "metadata": {
      "needs_background": "light"
     },
     "output_type": "display_data"
    }
   ],
   "source": [
    "x1 = np.array([0,1,0])\n",
    "\n",
    "plt.figure(figsize=(15,15))\n",
    "plt.subplot(331)\n",
    "sample_mrf_recovery(10, 1,1,10, x1)\n",
    "plt.subplot(332)\n",
    "sample_mrf_recovery(10, 1,1,1,  x1)\n",
    "plt.subplot(333)\n",
    "sample_mrf_recovery(10, 1,1,0.1, x1)\n",
    "\n",
    "plt.subplot(334)\n",
    "sample_mrf_recovery(10, 1,0,10, x1)\n",
    "plt.subplot(335)\n",
    "sample_mrf_recovery(10, 1,0,1, x1)\n",
    "plt.subplot(336)\n",
    "sample_mrf_recovery(10, 1,0,0.1, x1)\n",
    "\n",
    "plt.subplot(337)\n",
    "sample_mrf_recovery(10, 0,1,10, x1)\n",
    "plt.subplot(338)\n",
    "sample_mrf_recovery(10, 0,1,1, x1)\n",
    "plt.subplot(339)\n",
    "sample_mrf_recovery(10, 0,1,0.1, x1)\n"
   ]
  },
  {
   "cell_type": "markdown",
   "metadata": {},
   "source": [
    "## V. Parameter fitting\n",
    "\n",
    "The simplest way to fit the model parameters $\\alpha, \\beta, \\delta$ is to choose enough independent $3\\times 3$ patches and find parameters that minimise the log-likelihood of the data. The most naive way is to fix some parameter grid for $\\alpha, \\beta, \\delta$ and compute log-likelihood directly with [`multivariate_normal.logpdf`](https://docs.scipy.org/doc/scipy-0.14.0/reference/generated/scipy.stats.multivariate_normal.html) for each patch and see for which parameter set the sum of log-likelihoods is the smallest. \n",
    "You can be slightly more efficient and use [hill climbing](https://en.wikipedia.org/wiki/Hill_climbing) to see where to jump to from the current solution $(\\alpha,\\beta,\\delta)$.     \n",
    "\n",
    "Note that we know the likelihood \n",
    "\n",
    "\\begin{align*}\n",
    "p[X|\\alpha,\\beta,\\delta]\\propto \\exp\\Biggl(\n",
    "-\\frac{\\beta}{2}\\cdot\\sum_{i=1}^{m-1}\\sum_{j=1}^n (x_{i,j}-x_{i+1,j})^2\n",
    "-\\frac{\\alpha}{2}\\cdot\\sum_{i=1}^{m}\\sum_{j=1}^{n-1} (x_{i,j}-x_{i,j+1})^2\n",
    "-\\frac{\\delta^2}{2}\\cdot\\sum_{i=1}^m\\sum_{j=1}^n x_{ij}^2\n",
    "\\Biggr)\n",
    "\\end{align*}\n",
    "up to a constant \n",
    "\n",
    "\\begin{align*}\n",
    "c(\\alpha,\\beta,\\delta)=\\frac{1}{(2\\pi)^{\\frac{nm}{2}}\\cdot \\det \\Sigma}=\\frac{1}{(2\\pi)^{\\frac{nm}{2}}}\\cdot \\det \\Sigma^{-1}\n",
    "\\end{align*}\n",
    "\n",
    "which depends on the inverse covariance matrix $\\Sigma^{-1}(\\alpha,\\beta,\\delta)$. Thus getting the exact analytical solution is much harder than for typical maximum likelihood fitting. \n",
    "As we work with small $3\\times 3$ images it is still possible to compute the determinant of the  $9\\times 9$ inverse covariance matrix analytically and get an equation for finding the model parameters.\n",
    "\n",
    "This method has clear limits as it is almost impossible to extend this approach to typical sizes of meaningful textures that are at least $32\\times 32$ pixels big. Fortunately there is a loophole provided by the chain rule:\n",
    "\n",
    "\\begin{align*}\n",
    "y=g(f_1(x),f_2(x),\\ldots, f_k(x))\n",
    "\\qquad\\Longrightarrow\\qquad\n",
    "\\frac{\\partial y}{\\partial x}=\\sum_{i=1}^k \\frac{\\partial g(u_1,\\ldots,u_k)}{\\partial u_i}\\biggl|_\\boldsymbol{u_*}\\cdot  \\frac{\\partial f_i(x)}{\\partial x}\n",
    "\\end{align*}\n",
    "\n",
    "where $\\boldsymbol{u}_*=(f_1(x),\\ldots,f_k(x))$. In our case, the log-likelihood\n",
    "\n",
    "\\begin{align*}\n",
    "\\mathcal{L}(\\boldsymbol{\\Sigma},\\boldsymbol{\\mu})=const +\\frac{d}{2}\\cdot \\ln\\det(\\boldsymbol{\\Sigma}^{-1}) \n",
    "-\\sum_{i=1}^m\\frac{(\\boldsymbol{x}_i-\\boldsymbol{\\mu})^T \\boldsymbol{\\Sigma}^{-1}(\\boldsymbol{x}_i-\\boldsymbol{\\mu})}{2}\n",
    "\\end{align*}\n",
    "of a $d$-dimensional multivariate normal distribution has a known gradient with respect to the unconstrained inverse covariance matrix $\\boldsymbol{\\Sigma}^{-1}$:\n",
    "\n",
    "\\begin{align*}\n",
    "\\frac{\\partial\\mathcal{L}}{\\partial(\\boldsymbol{\\Sigma}^{-1})}\n",
    "&=\\frac{d}{2}\\cdot\\boldsymbol{\\Sigma}^{T} -\\sum_{i=1}^m\\frac{(\\boldsymbol{x}_i-\\boldsymbol{\\mu})^T (\\boldsymbol{x}_i-\\boldsymbol{\\mu})}{2}\n",
    "\\end{align*}\n",
    "\n",
    "and thus we can compute partial derivatives \n",
    "\n",
    "\\begin{align*}\n",
    "\\frac{\\partial\\mathcal{L}}{\\partial \\alpha}, \n",
    "\\frac{\\partial\\mathcal{L}}{\\partial \\beta},\n",
    "\\frac{\\partial\\mathcal{L}}{\\partial \\delta}\n",
    "\\end{align*}\n",
    "\n",
    "using the chain rule. It can be potentially complicated to compute partial derivatives \n",
    "\n",
    "\\begin{align*}\n",
    "\\frac{\\partial \\boldsymbol{\\Sigma}^{-1}}{\\partial \\alpha},\n",
    "\\frac{\\partial \\boldsymbol{\\Sigma}^{-1}}{\\partial \\beta}\n",
    "\\frac{\\partial \\boldsymbol{\\Sigma}^{-1}}{\\partial \\delta}\n",
    "\\end{align*}\n",
    "\n",
    "but this can be done for all image sizes as the matrix $\\boldsymbol{\\Sigma}^{-1}$ has a simple structure. "
   ]
  },
  {
   "cell_type": "markdown",
   "metadata": {},
   "source": [
    "## VI. Gibbs sampling\n",
    "\n",
    "Note that in principle, we can always compute the covariance matrix from the inverse covariance matrix. \n",
    "However, this quickly becomes infeasible if image sizes go beyond $32\\times 32$. Thus we need a method for sampling images without the inversion.\n",
    "This can be done with a [Gibbs sampling](https://en.wikipedia.org/wiki/Gibbs_sampling) algorithm that iteratively updates individual pixels $x_{ij}$ until sufficiently many iterations are carried out and we have an image that comes from a distribution that is very close to our target distribution.\n",
    "\n",
    "The Gibbs sampling algorithm adjusted to our problem is the following:\n",
    "\n",
    "* Initialize starting values of $x_{i,j}$ for $i \\in \\{1,\\ldots, m\\}$ and $j\\in\\{1,\\ldots,n\\}$.\n",
    "* Repeat until convergence:\n",
    "  * Order the $m × n$ grid of pixels and for each variable $x_{i,j}$ in the specified order do:\n",
    "     * Sample $x_{i,j}$ based on $p[x_{i,j}|\\mathsf{Neighbours}(x_{i,j})]$.\n",
    "     * Update the value $y_{i,j}$ accordingly. \n",
    "     \n",
    "Note that if we fix  $x_{ij}$ for known pixels, the algorithm also provides a reconstruction.\n",
    "\n",
    "**Known issues:** \n",
    "* It can be quite tricky to determine whether the number of iterations is sufficient or not. \n",
    "* The number of iterations can be quite large – sometimes around one million. You can try with 1000 iterations."
   ]
  },
  {
   "cell_type": "markdown",
   "metadata": {},
   "source": [
    "# Homework"
   ]
  },
  {
   "cell_type": "markdown",
   "metadata": {},
   "source": [
    "## 7.1 Medium-scale modelling of textures (<font color='red'>1p</font>)\n",
    "\n",
    "Images of sizes $3\\times 3$ are not large enough to see the true texture generated by the simple homogenous Markov random field. \n",
    "Adjust the model for $16\\times 16$ and $32\\times 32$ images and synthesise some textures with different $\\alpha,\\beta, \\delta$ parameters.\n",
    "Note that we can set $\\delta=1$ as by scaling the pixel intensities  by $\\sqrt{c}$ we scale the entire inverse covariance matrix by the factor of $c$.\n"
   ]
  },
  {
   "cell_type": "markdown",
   "metadata": {},
   "source": [
    "## 7.2 Higher order models for textures* (<font color='red'>3p</font>) \n",
    "\n",
    "The simple 4-element neighbourhood cannot capture more complex dependencies between pixel intensities. The following homogenous model \n",
    "\n",
    "<img src = 'illustrations/markov-random-field-iii.png' width=100%>\n",
    "\n",
    "is the next natural model that also penalises diagonal differences. Express the corresponding inverse covariance matrix and sample images from the corresponding distribution. As the cliques now have three nodes you can define more complex quadratic dependencies. Express the corresponding inverse covariance matrix and sample images from the corresponding distribution. What is the minimal set of parameters if we ignore global scaling of the pixel intensities?"
   ]
  },
  {
   "cell_type": "markdown",
   "metadata": {},
   "source": [
    "## 7.3 Medium-scale reconstruction of textures (<font color='red'>2p</font>) \n",
    "\n",
    "Images of sizes $3\\times 3$ are not large enough to see the true texture generated by the simple homogenous Markov random field. \n",
    "Adjust the model for $16\\times 16$ and $32\\times 32$ images and synthesise some textures with different $\\alpha,\\beta, \\delta$ parameters.\n",
    "Note that we can set $\\delta=1$ as by scaling the pixel intensities  by $\\sqrt{c}$ we scale the entire inverse covariance matrix by the factor of $c$.\n",
    "* Adjust the image recovery procedure so that the image is restored from a single row (<font color='red'>**1p**</font>). To see how good is the image reconstruction, sample an original image from the model, keep the upper row and synthesise several continuations.\n",
    "\n",
    "* Adjust the image recovery procedure so that it can handle any configuration of seed pixels and not just the upper row.  To see how good is the image reconstruction, sample an original image form the model, keep $25, 50, 75\\%$ pixels in random locations and synthesise several continuations (<font color='red'>**1p**</font>)."
   ]
  },
  {
   "cell_type": "markdown",
   "metadata": {},
   "source": [
    "## 7.4 Naive parameter fitting with grid search (<font color='red'>1p</font>)\n",
    "\n",
    "Try to fit the parameters of the simple homogenous Markov random field by sampling non-overlapping $3\\times 3$ patches from three different images:\n",
    "* [`carpet.jpg`](./data/carpet.jpg), [`hair.jpg`](./data/hairt.jpg), [`moss.jpg`](./data/moss.jpg)\n",
    "\n",
    "Use naive grid search or hill climbing to fit the model for each image and see if there are differences in the models:\n",
    "\n",
    "* Compare the stucture of inverse covariance matrices.\n",
    "* Test whether different models give higher likelihood scores to patches originating from their respective images."
   ]
  },
  {
   "cell_type": "markdown",
   "metadata": {},
   "source": [
    "## 7.5 Precise analytical parameter fitting* (<font color='red'>1p</font>) \n",
    "\n",
    "Consider again the simple homogenous Markov random field.\n",
    "* Derive analytical formulae for the gradients $\\frac{\\partial\\mathcal{L}}{\\partial \\alpha}$, $\\frac{\\partial\\mathcal{L}}{\\partial \\beta}$ and $\n",
    "\\frac{\\partial\\mathcal{L}}{\\partial \\delta}$, and find the analytical solution that maximises data log-likelihood.\n",
    "* Try to fit the parameters by sampling non-overlapping $3\\times 3$ patches from three different images:\n",
    "  * [`carpet.jpg`](./data/carpet.jpg), [`hair.jpg`](./data/hairt.jpg), [`moss.jpg`](./data/moss.jpg)\n",
    "* Compare results with the outcomes of the previous exercise. They should be quite close to each other.\n"
   ]
  },
  {
   "cell_type": "markdown",
   "metadata": {},
   "source": [
    "## 7.6 Precise parameter fitting over a large image* (<font color='red'>5p</font>)\n",
    "\n",
    "The previous solution considered only a subset of all available patches and thus ignored a lot of correlations between pixels. To solve this there are two options:\n",
    "\n",
    "* First, we can extract all subpatches of the image so that the corresponding log-likelihood function is identical up to a normalising constant. Then we can treat all these subpatches as independent and compute the maximal likelihood estimate for parameters $\\alpha,\\beta,\\delta$ (<font color='red'>**1p**</font>).\n",
    "* Second, we can try to minimise the true log-likelihood. We can do it by minimising the true log-likelihood of the image. This can be done with grid search (<font color='red'>**1p**</font>) or by using the analytical solution (<font color='red'>**2p**</font>).    \n",
    "\n",
    "Fit the simple homogenous Markov field model to [`carpet.jpg`](./data/carpet.jpg), [`hair.jpg`](./data/hairt.jpg), [`moss.jpg`](./data/moss.jpg) and compare the results.\n",
    "\n",
    "**Extra task:**\n",
    "Fit a more complex (higher order) homogenous Markov field model to the data and compare how well it captures the texture by synthesising $16\\times 16$, $32\\times 32$ patches and testing how well it can discriminate between patches from different images (<font color='red'>**5p**</font>)."
   ]
  },
  {
   "cell_type": "markdown",
   "metadata": {},
   "source": [
    "# Some Python modules that might be useful for analytical derivation"
   ]
  },
  {
   "cell_type": "code",
   "execution_count": 17,
   "metadata": {},
   "outputs": [],
   "source": [
    "from sympy import Matrix\n",
    "from sympy import Symbol\n"
   ]
  },
  {
   "cell_type": "code",
   "execution_count": 18,
   "metadata": {},
   "outputs": [],
   "source": [
    "a = Symbol('a')\n",
    "b = Symbol('b')\n",
    "A = Matrix([[1,a,0], [a,1,a],[0,a,1]])"
   ]
  },
  {
   "cell_type": "code",
   "execution_count": 19,
   "metadata": {},
   "outputs": [
    {
     "data": {
      "text/latex": [
       "$\\displaystyle 1 - 2 a^{2}$"
      ],
      "text/plain": [
       "1 - 2*a**2"
      ]
     },
     "execution_count": 19,
     "metadata": {},
     "output_type": "execute_result"
    }
   ],
   "source": [
    "A.det()"
   ]
  },
  {
   "cell_type": "code",
   "execution_count": 20,
   "metadata": {},
   "outputs": [
    {
     "data": {
      "text/latex": [
       "$\\displaystyle \\left[\\begin{matrix}1 & a & 0 & b & 0 & 0\\\\a & 1 & a & 0 & b & 0\\\\0 & a & 1 & 0 & 0 & b\\\\b & 0 & 0 & 1 & a & 0\\\\0 & b & 0 & a & 1 & a\\\\0 & 0 & b & 0 & a & 1\\end{matrix}\\right]$"
      ],
      "text/plain": [
       "Matrix([\n",
       "[1, a, 0, b, 0, 0],\n",
       "[a, 1, a, 0, b, 0],\n",
       "[0, a, 1, 0, 0, b],\n",
       "[b, 0, 0, 1, a, 0],\n",
       "[0, b, 0, a, 1, a],\n",
       "[0, 0, b, 0, a, 1]])"
      ]
     },
     "metadata": {},
     "output_type": "display_data"
    }
   ],
   "source": [
    "A2 = Matrix([[1,a,0, b,0,0], [a,1,a, 0,b,0],[0,a,1,0,0, b],[b, 0,0,1,a,0], [0,b,0,a,1,a],[0,0,b,0,a,1]])\n",
    "display(A2)"
   ]
  },
  {
   "cell_type": "code",
   "execution_count": 21,
   "metadata": {},
   "outputs": [
    {
     "data": {
      "text/latex": [
       "$\\displaystyle - 4 a^{4} b^{2} + 4 a^{4} + 4 a^{2} b^{4} - 4 a^{2} - b^{6} + 3 b^{4} - 3 b^{2} + 1$"
      ],
      "text/plain": [
       "-4*a**4*b**2 + 4*a**4 + 4*a**2*b**4 - 4*a**2 - b**6 + 3*b**4 - 3*b**2 + 1"
      ]
     },
     "execution_count": 21,
     "metadata": {},
     "output_type": "execute_result"
    }
   ],
   "source": [
    "A2.det()"
   ]
  },
  {
   "cell_type": "code",
   "execution_count": 22,
   "metadata": {},
   "outputs": [
    {
     "data": {
      "text/latex": [
       "$\\displaystyle \\left[\\begin{matrix}1 & a & 0 & b & 0 & 0 & 0 & 0 & 0\\\\a & 1 & a & 0 & b & 0 & 0 & 0 & 0\\\\0 & a & 1 & 0 & 0 & b & 0 & 0 & 0\\\\b & 0 & 0 & 1 & a & 0 & b & 0 & 0\\\\0 & b & 0 & a & 1 & a & 0 & b & 0\\\\0 & 0 & b & 0 & a & 1 & 0 & 0 & b\\\\0 & 0 & 0 & b & 0 & 0 & 1 & a & 0\\\\0 & 0 & 0 & 0 & b & 0 & a & 1 & a\\\\0 & 0 & 0 & 0 & 0 & b & 0 & a & 1\\end{matrix}\\right]$"
      ],
      "text/plain": [
       "Matrix([\n",
       "[1, a, 0, b, 0, 0, 0, 0, 0],\n",
       "[a, 1, a, 0, b, 0, 0, 0, 0],\n",
       "[0, a, 1, 0, 0, b, 0, 0, 0],\n",
       "[b, 0, 0, 1, a, 0, b, 0, 0],\n",
       "[0, b, 0, a, 1, a, 0, b, 0],\n",
       "[0, 0, b, 0, a, 1, 0, 0, b],\n",
       "[0, 0, 0, b, 0, 0, 1, a, 0],\n",
       "[0, 0, 0, 0, b, 0, a, 1, a],\n",
       "[0, 0, 0, 0, 0, b, 0, a, 1]])"
      ]
     },
     "metadata": {},
     "output_type": "display_data"
    }
   ],
   "source": [
    "A3 = Matrix([\n",
    "    [1,a,0,b,0,0,0,0,0], \n",
    "    [a,1,a,0,b,0,0,0,0],\n",
    "    [0,a,1,0,0,b,0,0,0],\n",
    "    [b,0,0,1,a,0,b,0,0], \n",
    "    [0,b,0,a,1,a,0,b,0],\n",
    "    [0,0,b,0,a,1,0,0,b],\n",
    "    [0,0,0,b,0,0,1,a,0],\n",
    "    [0,0,0,0,b,0,a,1,a],\n",
    "    [0,0,0,0,0,b,0,a,1]])\n",
    "display(A3)"
   ]
  },
  {
   "cell_type": "code",
   "execution_count": 23,
   "metadata": {},
   "outputs": [
    {
     "data": {
      "text/latex": [
       "$\\displaystyle \\left[\\begin{matrix}1 & a & 0 & b & 0 & 0 & 0 & 0 & 0\\\\0 & 1 - a^{2} & a & - a b & b & 0 & 0 & 0 & 0\\\\0 & a & 1 & 0 & 0 & b & 0 & 0 & 0\\\\b & 0 & 0 & 1 & a & 0 & b & 0 & 0\\\\0 & b & 0 & a & 1 & a & 0 & b & 0\\\\0 & 0 & b & 0 & a & 1 & 0 & 0 & b\\\\0 & 0 & 0 & b & 0 & 0 & 1 & a & 0\\\\0 & 0 & 0 & 0 & b & 0 & a & 1 & a\\\\0 & 0 & 0 & 0 & 0 & b & 0 & a & 1\\end{matrix}\\right]$"
      ],
      "text/plain": [
       "Matrix([\n",
       "[1,        a, 0,    b, 0, 0, 0, 0, 0],\n",
       "[0, 1 - a**2, a, -a*b, b, 0, 0, 0, 0],\n",
       "[0,        a, 1,    0, 0, b, 0, 0, 0],\n",
       "[b,        0, 0,    1, a, 0, b, 0, 0],\n",
       "[0,        b, 0,    a, 1, a, 0, b, 0],\n",
       "[0,        0, b,    0, a, 1, 0, 0, b],\n",
       "[0,        0, 0,    b, 0, 0, 1, a, 0],\n",
       "[0,        0, 0,    0, b, 0, a, 1, a],\n",
       "[0,        0, 0,    0, 0, b, 0, a, 1]])"
      ]
     },
     "execution_count": 23,
     "metadata": {},
     "output_type": "execute_result"
    }
   ],
   "source": [
    "A3.row_op(1, lambda v, j: v - a * A3[0, j]); \n",
    "A3"
   ]
  },
  {
   "cell_type": "code",
   "execution_count": 24,
   "metadata": {},
   "outputs": [
    {
     "data": {
      "text/latex": [
       "$\\displaystyle \\left[\\begin{matrix}1 & 0 & 0 & b & 0 & 0 & 0 & 0 & 0\\\\0 & 1 - a^{2} & a & - a b & b & 0 & 0 & 0 & 0\\\\0 & a & 1 & 0 & 0 & b & 0 & 0 & 0\\\\b & - a b & 0 & 1 & a & 0 & b & 0 & 0\\\\0 & b & 0 & a & 1 & a & 0 & b & 0\\\\0 & 0 & b & 0 & a & 1 & 0 & 0 & b\\\\0 & 0 & 0 & b & 0 & 0 & 1 & a & 0\\\\0 & 0 & 0 & 0 & b & 0 & a & 1 & a\\\\0 & 0 & 0 & 0 & 0 & b & 0 & a & 1\\end{matrix}\\right]$"
      ],
      "text/plain": [
       "Matrix([\n",
       "[1,        0, 0,    b, 0, 0, 0, 0, 0],\n",
       "[0, 1 - a**2, a, -a*b, b, 0, 0, 0, 0],\n",
       "[0,        a, 1,    0, 0, b, 0, 0, 0],\n",
       "[b,     -a*b, 0,    1, a, 0, b, 0, 0],\n",
       "[0,        b, 0,    a, 1, a, 0, b, 0],\n",
       "[0,        0, b,    0, a, 1, 0, 0, b],\n",
       "[0,        0, 0,    b, 0, 0, 1, a, 0],\n",
       "[0,        0, 0,    0, b, 0, a, 1, a],\n",
       "[0,        0, 0,    0, 0, b, 0, a, 1]])"
      ]
     },
     "execution_count": 24,
     "metadata": {},
     "output_type": "execute_result"
    }
   ],
   "source": [
    "A3.col_op(1, lambda v,i: v - a *  A3[i,0]) \n",
    "A3"
   ]
  }
 ],
 "metadata": {
  "kernelspec": {
   "display_name": "Python 3 (ipykernel)",
   "language": "python",
   "name": "python3"
  },
  "language_info": {
   "codemirror_mode": {
    "name": "ipython",
    "version": 3
   },
   "file_extension": ".py",
   "mimetype": "text/x-python",
   "name": "python",
   "nbconvert_exporter": "python",
   "pygments_lexer": "ipython3",
   "version": "3.8.13"
  }
 },
 "nbformat": 4,
 "nbformat_minor": 2
}
