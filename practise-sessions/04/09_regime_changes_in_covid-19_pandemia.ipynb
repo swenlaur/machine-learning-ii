{
 "cells": [
  {
   "cell_type": "markdown",
   "metadata": {},
   "source": [
    "# Regime shifts in COVID-19 pandemia\n",
    "\n",
    "COVID-19 is a particularly dangerous disease for health-care system:\n",
    "\n",
    "* SARS-CoV-2 virus is as infectious as flu.\n",
    "* Significant amount of infected patients require hospitalisation.\n",
    "* Many patients have asymptomatic disease form that remains undetected,\n",
    "* The disease spread follows exponential law with high basic reproduction number.  \n",
    "\n",
    "Because of these reasons it is extremely important to know  basic reproduction number $R_0$. It can vary form day to day. We use shorthand $\\alpha_i$ for the basic reproduction number in the $i$-th day.\n",
    "However, due to the similarity with common cold and flu a large number of cases remain undetected. Therefore, a reliable estimate for reproduction number can be estimated only from \n",
    "* the amount of hospitalised patients\n",
    "* the amount of recorded deaths.\n",
    "\n",
    "These observations come with time lag:  \n",
    "* On average the patient will be hospitalised after 7-14 days from infection.\n",
    "* On average the death occurs 14-19 days from infection.\n",
    "\n",
    "Newetheless, these are the only objective measurements we can get across countries, as different countries have different testing procedures.\n",
    "\n",
    "\n",
    "The average mortality for COVID-19 is 3% if you consider reported cases vs deaths.\n",
    "The moratlity is expected to be smaller as the large number of cases remain unreported.\n",
    "It is important to note that the moratlity can vary a lot depending how overloaded is the medical system. \n",
    "In this study, we are interested how much the initial prevention measures infuence the basic reproduction number. \n",
    "As most European countries were swift to act the overload is not significant in this timeframe.  \n"
   ]
  },
  {
   "cell_type": "markdown",
   "metadata": {},
   "source": [
    "## I.  Basic notation and background knowledge\n",
    "\n",
    "Consider the observations of the $i$-th day: \n",
    "* Let $\\alpha_i$ be the basic reproduction number. \n",
    "* Let $x_i$ be the true number of infected individuals.\n",
    "* Let $y_i$ be the number of recorded hospitalisations.\n",
    "* Let $z_i$ be the number of recorded deaths\n",
    "* Let $u_i$ be indicator for a potential regime shift.\n",
    "\n",
    "The regime indicator $u_i$ is set to one if the regime shift is assumed to possible:\n",
    "* The exact nature of it depends how you formalise backgroung knowledge. \n",
    "* For instance assume that a new prevention measure was inplemented on the $i$-th day and you think that it takes up to three days to enforce it. Then you should set  $u_i=u_{i+1}=u_{i+2}=1$. \n",
    "\n",
    "Ás infections, hospitalisations and deaths are out of sync and we need to consolidate them. The most naive way is to align hospitalisations and deaths with the infection time using average time delays:\n",
    "\n",
    "* We assume that a patient is hospiltalised after 12 days on average. \n",
    "* We assume that a death occurs after after 17 days on average.\n",
    "* These numbers are not substantiated on a real evidence.\n",
    "* Graphs of Wuhan outbreaks seem to indicate 12 day lag for hospitalisation.  \n",
    "\n",
    "\n",
    "Hospitalisation and death rates determine the variability of observations $y_i$ and $z_i$:\n",
    "\n",
    "* We assume that 3% of infected individuals die.\n",
    "* We assume that 15-20% of infected individuals are hospitalised.\n",
    "* These rates can be much lower due to asymptomatic infections.\n",
    "* This is not a problem as we can define $x_i$ as the number of non-asymptomatic infections. "
   ]
  },
  {
   "cell_type": "markdown",
   "metadata": {},
   "source": [
    "## II. First order Hidden Markov Model\n",
    "\n",
    "### Emission probabilities\n",
    "\n",
    "* If we shift $y_i$ 12 days and $z_i$ 17 days to the left we get a setting where $x_i$ determines $y_i$ and $z_i$.\n",
    "\n",
    "* The state of the Hidden Markov model is a pair $(x_i, \\alpha_i, \\ldots)$ where $\\alpha_i$ is the current reproduction number.\n",
    "\n",
    "* Let $p_y$ and $p_z$ be the probabilities of hospitalisation and death then \n",
    "\n",
    "\\begin{align*}\n",
    "y_i&\\sim Binomial(x_i, p_y)\\\\\n",
    "z_i&\\sim Binomial(x_i, p_z)\\enspace\n",
    "\\end{align*}\n",
    "\n",
    "* According to the background knowlege we can set $p_y=20\\%$ and $p_z=3\\%$.\n",
    "\n",
    "\n",
    "### State transitions and extra evidence\n",
    "\n",
    "Let $(x_i, \\alpha_i, s_i)$ be the state of Hidden Markov model where $s_i$ is the level of containment and mitigation measures.\n",
    "Most coutries have used three level of mitigation measures:\n",
    "\n",
    "* no rectrictions (0)\n",
    "* social distancing (1)\n",
    "* hard lockdown (2)\n",
    "\n",
    "Note that we do not know when the mitigation measures kick in as there is an unknown amount of time is needed to enforece these measures in real life. \n",
    "Thus, we must model the process with a following state diagram:\n",
    "\n",
    "<img src = 'illustrations/one-way-three-state-model.png' width=100%>\n",
    "\n",
    "From basic assumptions we know that $s_1=0$ and $s_n=2$.\n",
    "The exact value of $\\rho$ is irrelevant as all valid state sequences will get the same probability. \n",
    "\n",
    "In the simplest case we assume that in each state the basic reproduction number is constant and $\\alpha_i$ can only change if state of mitigation measures changes.\n",
    "This leads to the following evaluation rules:\n",
    "* The mitigation state changes with the following probability\n",
    "\n",
    "\\begin{align*}\n",
    "\\Pr[s_{i+1}&=s_i]=1-\\rho\\\\\n",
    "\\Pr[s_{i+1}&=s_i+1]=\\rho\\\\\n",
    "\\end{align*}\n",
    "\n",
    "* When the mitigation state does not change\n",
    "\n",
    "\\begin{align*}\n",
    "s_{i+1}&=s_i\\\\\n",
    "\\alpha_{i+1}&=\\alpha_i\\\\\n",
    "x_{i+1}&=\\alpha_{i}\\cdot x_{i}\n",
    "\\end{align*}\n",
    "\n",
    "* When the mitigation state changes \n",
    "\n",
    "\\begin{align*}\n",
    "s_{i+1}&=s_i+1\\\\\n",
    "\\Pr[\\alpha_{i+1}]&=const\\\\\n",
    "x_{i+1}&=\\alpha_{i}\\cdot x_{i}\n",
    "\\end{align*}\n",
    "\n",
    "### Initial probabilities\n",
    "\n",
    "The initial mitigation state $s_1=0$ and the \n",
    "\\begin{align*}\n",
    "\\Pr[\\alpha_i]&=const\\\\\n",
    "\\Pr[x_1]&=const\n",
    "\\end{align*}\n",
    "\n",
    "\n",
    "### What do these constant probabilities mean\n",
    "\n",
    "* We use constant probabilities to maximally impartial about the changes. \n",
    "* In practice one shpuld use grid of values with step size $0.05$ instead of continious values.\n",
    "* According to our background knowledge the basic reproduction number is in the range $[1.0, 1.5]$. \n",
    "* The initial number of infected patients depends form which point you stat the timeseries.\n",
    "* In most cases, the initial number of infected patients is in the range $x_1\\in[1, 1000]$.\n",
    "\n",
    "\n",
    "\n"
   ]
  },
  {
   "cell_type": "markdown",
   "metadata": {},
   "source": [
    "## III.  Inference\n",
    "\n",
    "Note that we formalised the problem in a way that the mechains of the Hidden Markov model is fixed and we need to find the only the hidden states of the model:\n",
    "\n",
    "* We can use decoding to find the most probable path and corresponding parameters $x_i, \\alpha_i, s_i$.\n",
    "\n",
    "* We can use belief propagation to estimate marginal probabilities and find the maximising parameters $x_i, \\alpha_i, s_i$.\n",
    "\n"
   ]
  },
  {
   "cell_type": "markdown",
   "metadata": {},
   "source": [
    "## IV. Available data \n",
    "\n",
    "As the situation is changing we provide only links to the data \n",
    "* [Johns Hopkins University Center for Systems Science and Engineering dataset](https://data.humdata.org/dataset/novel-coronavirus-2019-ncov-cases)\n",
    "* [European Centre for Disease Prevention and Control dataset](https://www.ecdc.europa.eu/en/publications-data/download-todays-data-geographic-distribution-covid-19-cases-worldwide)\n",
    "* [BIIT dataset for Estionian COVID-19 cases]( https://docs.google.com/spreadsheets/d/1nGRqoWD6B8zXqBE7ftW2DG5sX9HNTu5FMoehBygLdg0/edit#gid=0)\n",
    "* [University of Oxford containment measures dataset](http://epidemicforecasting.org/containment)\n",
    "* [European Union travel restrictions](https://ec.europa.eu/transport/coronavirus-response_en)\n",
    "* [Detailed information of events in www.worldometers.info](https://www.worldometers.info/coronavirus/)\n"
   ]
  },
  {
   "cell_type": "markdown",
   "metadata": {},
   "source": [
    "## V. Kaplan–Meier survival graphs and higher order chains\n",
    "\n",
    "* Shifting the timeseries for hospiltalisation and death is avery crude measure.\n",
    "* Kaplan-Meyer survival graph allows to estimate how many patients are alive after $x$ days.\n",
    "* If the Kaplan-Mayer suervival graph is given form the infection date we can easily model the impact $x_i$ has to $x_{i+j}$.\n",
    "* Similar graph can be built for the hospitalisation data.\n",
    "* If we keep $x_i, x_{i-1}, \\ldots, x_{i-k}$ in the hidden state state we can compute much more refined estimate for the emission probabilities.   \n",
    "\n"
   ]
  },
  {
   "cell_type": "markdown",
   "metadata": {},
   "source": [
    "# Homework"
   ]
  },
  {
   "cell_type": "markdown",
   "metadata": {},
   "source": [
    "## 6.1 Basic model for COVID-19 (<font color ='red'>5p</font>)\n",
    "\n",
    "Implement the basic change detection algorithm described above and analyse the data from\n",
    "* China\n",
    "* Italy \n",
    "* Iran\n",
    "* Germany\n",
    "* Spain\n",
    "* United Kingdom \n",
    "* Sweden\n",
    "\n",
    "Visualise the results. Do different contries have similar basic reproduction numbers? \n",
    "\n",
    "You get <font color ='red'>3p</font> for implementing the inference and <font color ='red'>2p</font> for visualisation and interpretation."
   ]
  },
  {
   "cell_type": "markdown",
   "metadata": {},
   "source": [
    "## 6.2 Model with variable reproduction number for COVID-19 (<font color ='red'>3p+2p</font>)\n",
    "\n",
    "Improve the model so that small fluctuations are in basic reproduction numbers is tolerated inside the block. Define probability model by yourself and justify it.\n",
    "Redo the analysis and visualise the results in similar manner as in the previous exercise.\n",
    "You get up to <font color ='red'>2p</font> extra points if you manage to use $u_i$ in the model."
   ]
  },
  {
   "cell_type": "markdown",
   "metadata": {},
   "source": [
    "## 6.3 Higer-order Hidden Markov  model for COVID-19 (<font color ='red'>5-10p</font>)\n",
    "\n",
    "Improve the model so that $x_i$ can contribute to many observations $y_i$ and $z_i$.\n",
    "You get <font color ='red'>5p</font> if you use some ad hoc estimate for surviaval to show that such analysis can be carried out.\n",
    "You get <font color ='red'>10p</font> if you use find some preliminary survival estimates and use it."
   ]
  }
 ],
 "metadata": {
  "kernelspec": {
   "display_name": "Python 3 (ipykernel)",
   "language": "python",
   "name": "python3"
  },
  "language_info": {
   "codemirror_mode": {
    "name": "ipython",
    "version": 3
   },
   "file_extension": ".py",
   "mimetype": "text/x-python",
   "name": "python",
   "nbconvert_exporter": "python",
   "pygments_lexer": "ipython3",
   "version": "3.8.12"
  }
 },
 "nbformat": 4,
 "nbformat_minor": 4
}
