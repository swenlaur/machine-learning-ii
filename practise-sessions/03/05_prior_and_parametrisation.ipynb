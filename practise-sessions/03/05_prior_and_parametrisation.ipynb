{
 "cells": [
  {
   "cell_type": "markdown",
   "metadata": {},
   "source": [
    "# Prior and parametrisation"
   ]
  },
  {
   "cell_type": "code",
   "execution_count": 1,
   "metadata": {},
   "outputs": [],
   "source": [
    "import numpy as np\n",
    "import pandas as pd\n",
    "import scipy.stats as stats\n",
    "import numpy.random as rnd\n",
    "import string\n",
    "\n",
    "from pandas import Series\n",
    "from pandas import DataFrame\n",
    "from typing import List\n",
    "\n",
    "from tqdm import tnrange\n",
    "from plotnine import *\n",
    "\n",
    "# Local imports\n",
    "from common import *\n",
    "from convenience import *"
   ]
  },
  {
   "cell_type": "markdown",
   "metadata": {},
   "source": [
    "# Homework"
   ]
  },
  {
   "cell_type": "markdown",
   "metadata": {},
   "source": [
    "## The effect of an uneven grid to prior  (<font color='red'>2p</font>)\n",
    "\n",
    "Consider the coin-flipping experiment where out of $N=6$ observations $k=3$ are ones.\n",
    "* First, let the potential bias values  $p$ form a uniform grid over $[0,1]$ consisting of $n+1$ points where $n=10, 100, 1000, \\ldots$. Draw the corresponding limiting posterior distribution. \n",
    "* Second, consider an uneven grid where the same number of points are uniformly placed over ranges $[0, 0.1]$, $[0.1, 0.9]$ and $[0.9, 1.0]$. Such grid is natural if we are interested to determine whether coin is strongly biased or not. Draw the corresponding limiting posterior distribution. \n",
    "\n",
    "Explain why you get so different results. You can use limiting priors for $p$ in reasoning (<font color='red'>1p</font>).\n",
    "Give a different explanation where the prior over the parameter $q$ is still uniform but the parametrisation of the coin outcome probability $\\Pr[B_i=1]=f(q)$ is different form atandard parametrisation. Which of those parametrisations are correct if we want to get posterior for a non-biased observer (<font color='red'>1p</font>)?      "
   ]
  },
  {
   "cell_type": "code",
   "execution_count": null,
   "metadata": {},
   "outputs": [],
   "source": []
  }
 ],
 "metadata": {
  "kernelspec": {
   "display_name": "Python 3",
   "language": "python",
   "name": "python3"
  },
  "language_info": {
   "codemirror_mode": {
    "name": "ipython",
    "version": 3
   },
   "file_extension": ".py",
   "mimetype": "text/x-python",
   "name": "python",
   "nbconvert_exporter": "python",
   "pygments_lexer": "ipython3",
   "version": "3.6.10"
  }
 },
 "nbformat": 4,
 "nbformat_minor": 4
}
