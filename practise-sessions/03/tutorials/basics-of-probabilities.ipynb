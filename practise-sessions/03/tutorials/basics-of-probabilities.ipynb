{
 "cells": [
  {
   "cell_type": "markdown",
   "metadata": {},
   "source": [
    "## I.Basic properties of probability"
   ]
  },
  {
   "cell_type": "markdown",
   "metadata": {},
   "source": [
    "Probability is a function $\\Pr: \\mathrm{Events}\\to [0,1]$ that assigns probabaility to each event. \n",
    "There are two basic laws of probability for scaling\n",
    "\n",
    "\\begin{align*}\n",
    "\\Pr[\\mathrm{Nothing}]&=0\\\\\n",
    "\\Pr[\\mathrm{Anything}]&=1\\\\\n",
    "\\end{align*}\n",
    "\n",
    "and one for decomposing complex events into combination of simpler events\n",
    "\n",
    "\\begin{align*}\n",
    "\\Pr[A\\vee B]&= \\Pr[A] + \\Pr[B]-\\Pr[A \\wedge B]\n",
    "\\end{align*}\n"
   ]
  },
  {
   "cell_type": "markdown",
   "metadata": {},
   "source": [
    "## II. Conditional probabilities\n",
    "\n",
    "Bayesian interpretation of a consitional probability $\\Pr[\\mathrm{Even} | \\mathrm{Knowledge}]$ is probability given knowledge. Usually the knowledge is captured in terms of another event, e.g. \n",
    "\n",
    "\\begin{align*}\n",
    "\\Pr[\\mathrm{Sum\\ of\\ two\\ dice\\ throws = 12}|\\mathrm{First\\ dice=5}]=0\\\\\n",
    "\\Pr[\\mathrm{Sum\\ of\\ two\\ dice\\ throws = 7}|\\mathrm{First\\ dice=5}]=\\frac{1}{6}\n",
    "\\end{align*}\n",
    "\n",
    "Another type of knowledge is about the random process itself\n",
    "\n",
    "\\begin{align*}\n",
    "\\Pr[\\mathrm{Head}|\\mathrm{Coin\\ is\\ fair}]&=\\frac{1}{2}\\\\\n",
    "\\Pr[\\mathrm{Head}|\\mathrm{Coin\\ has\\ two\\ tails}]&=0\\\\\n",
    "\\end{align*}\n",
    "\n"
   ]
  },
  {
   "cell_type": "markdown",
   "metadata": {},
   "source": [
    "## III. Bayesian formula\n",
    "\n",
    "In mathematical probability theory the Bayes formula defines conditional probabilities\n",
    "\n",
    "\\begin{align*}\n",
    "\\Pr[A|B]:=\\frac{\\Pr[A\\wedge B]}{\\Pr[B]}\n",
    "\\end{align*}\n",
    "\n",
    "in Bayesian interpretation the formula \n",
    "\n",
    "\\begin{align*}\n",
    "\\Pr[A\\wedge B]=\\Pr[A|B]\\cdot\\Pr[B]\n",
    "\\end{align*}\n",
    "has meaning:\n",
    "\n",
    "* To fix a proablity of $\\Pr[A \\wedge B]$ you need to know $\\Pr[B]$ and $\\Pr[A|B]$. \n",
    "\n",
    "In most cases, assigning probaility to $\\Pr[A|B]$ is quite easy. \n",
    "\n",
    "Sometimes it is hard to assign the opposite probability $\\Pr[B|A]$. Then full Bayes formula comes to rescue:\n",
    "\n",
    "\\begin{align*}\n",
    "\\Pr[A|B]=\\frac{\\Pr[B|A]\\cdot\\Pr[A]}{\\Pr[B]}\n",
    "\\end{align*}\n",
    "\n"
   ]
  },
  {
   "cell_type": "markdown",
   "metadata": {},
   "source": [
    "## IV. Continuous variables and densities\n",
    "\n",
    "Some events spaces are too complex and we need to be very careful how we assign probabilities.\n",
    "If we have a random variable $X$ that can have any outcome over $\\mathbb{R}$ then we must work with densities.\n",
    "\n",
    "A density is defined similarly to derivative:\n",
    "\n",
    "\\begin{align*}\n",
    "p[x_0]=\\lim_{\\Delta x\\to 0^+}\\frac{\\Pr[x\\in[x_0,x_0+\\Delta x]]}{\\Delta x}\n",
    "\\end{align*}\n",
    "\n",
    "as such they allow to assign probabilities to small intervals\n",
    "\n",
    "\\begin{align*}\n",
    " \\Pr[x\\in[x_0,x_0+\\delta x]] \\approx \\delta x \\cdot p[x_0].\n",
    "\\end{align*}\n",
    "\n",
    "Density graph is a scaled version of histogramm where bin size goes to zero and the number of observations goes to infinity. "
   ]
  }
 ],
 "metadata": {
  "kernelspec": {
   "display_name": "Python 3 (ipykernel)",
   "language": "python",
   "name": "python3"
  },
  "language_info": {
   "codemirror_mode": {
    "name": "ipython",
    "version": 3
   },
   "file_extension": ".py",
   "mimetype": "text/x-python",
   "name": "python",
   "nbconvert_exporter": "python",
   "pygments_lexer": "ipython3",
   "version": "3.10.16"
  }
 },
 "nbformat": 4,
 "nbformat_minor": 4
}
