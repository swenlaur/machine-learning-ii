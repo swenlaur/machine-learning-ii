{
 "cells": [
  {
   "cell_type": "markdown",
   "metadata": {},
   "source": [
    "# Direction with maximal variance"
   ]
  },
  {
   "cell_type": "markdown",
   "metadata": {},
   "source": [
    "## I. Problem statement\n",
    "\n",
    "Let $\\boldsymbol{x}$ be an $n$-dimensional real-valued random variable. \n",
    "Then we can ask what is the direction in which the variable $\\boldsymbol{x}$ varies most.\n",
    "More formally let  $\\boldsymbol{w}$ be a unit vector:\n",
    "\n",
    "\\begin{align*}\n",
    "||\\boldsymbol{w}||^2=w_1^2+\\cdots+w_n^2=1\n",
    "\\end{align*}\n",
    "and let $\\xi$ be the ortogonal projection onto the vector $\\boldsymbol{w}$: \n",
    "\n",
    "\\begin{align*}\n",
    "\\xi = \\boldsymbol{w}^T\\boldsymbol{x}=w_1x_1+\\cdots+w_nx_n \\enspace.\n",
    "\\end{align*}\n",
    "\n",
    "Then we can ask which direction $\\boldsymbol{w}$ maximises the variance of $\\xi$.\n"
   ]
  },
  {
   "cell_type": "markdown",
   "metadata": {},
   "source": [
    "## II. Solution when coordinates are independent\n",
    "\n",
    "Let us first consider the solutiuon to the problem under the assumption that coordinates of $\\boldsymbol{x}$ are independent and expected value for each coordinate is zero. Under this assumptions we can express the covariance  \n",
    "\n",
    "\\begin{align*}\n",
    "\\mathbf{Cov}(\\boldsymbol{x})=\\mathbf{E}(\\boldsymbol{x}\\boldsymbol{x}^T) = \\mathrm{diag}(a_1^2,\\ldots, a_n^2) \n",
    "\\end{align*}\n",
    "\n",
    "where $\\mathrm{diag}(a_1^2,\\ldots,a_n^2)$ is a diagonal matrix with diagonal entries $a_1^2,\\ldots, a_n^2$. \n",
    "\n",
    "Let us now compute the variance of $\\xi$. It is straightforward to see that $\\xi$ is also centered variable:\n",
    "\n",
    "\\begin{align*}\n",
    "\\mathbf{E}(\\xi)=\\mathbf{E}(\\boldsymbol{w}^T\\boldsymbol{x}) = \\boldsymbol{w}^T \\mathbf{E}(\\boldsymbol{x}) =\\boldsymbol{0}\n",
    "\\end{align*}\n",
    "\n",
    "and thus ve can express the variance\n",
    "\n",
    "\\begin{align*}\n",
    "\\mathbf{Var}(\\xi)=\\mathbf{E}(\\xi\\xi^T)=\\mathbf{E}(\\boldsymbol{w}^T\\boldsymbol{x}\\boldsymbol{x}^T\\boldsymbol{w}) = \n",
    "\\boldsymbol{w}^T\\mathbf{E}(\\boldsymbol{x}\\boldsymbol{x}^T)\\boldsymbol{w} = \\boldsymbol{w}^T\\mathrm{diag}(a_1^2,\\ldots,a_n^2)\\boldsymbol{w}\\enspace.\n",
    "\\end{align*}\n",
    "\n",
    "By expanding the matrix notation we get\n",
    "\n",
    "\\begin{align*}\n",
    "\\mathbf{Var}(\\xi)=w_1^2a_1^2+\\cdots+w_n^2a_n^2=:F(\\boldsymbol{w})\\enspace.\n",
    "\\end{align*}\n",
    "\n",
    "There are several ways to maximise this expression. We can use Lagrange' trick and find optimal solution through differentiation.\n",
    "\n",
    "But there is a simpler way to establish the solution. Let us consider a simplified problem where we need to maximise $w_1^2a_1^2+w_2^2a_2^2$ subject to $w_1^2+w_2^2=c^2$. Then we can just substitute and get\n",
    "\n",
    "\\begin{align*}\n",
    "w_1^2a_1^2+(c-w_1^2)a_2^2= c^2a_2^2+(a_1^2-a_2^2)w_1^2\n",
    "\\end{align*}\n",
    "\n",
    "Clearly if $a_1> a_2$ we must choose maximal value $w_1^2=1$ and otherwise the minimal value $w_1^2=0$. \n",
    "Based on this observation it is easy to see that the optimal solution is in the form $w_i=0$ if $a_i$ smaller or equal than some other $a_j$.\n",
    "That is the varince is maximised along the coordinate axis for which the variance of $x_i$ is maximal."
   ]
  },
  {
   "cell_type": "markdown",
   "metadata": {},
   "source": [
    "## III. Solution for scaled spherical Gaussian noise\n",
    "\n",
    "Let us consider the same problem as before but under the assumption that the random varible $\\boldsymbol{y}$ is scaled sperical gaussian noise:\n",
    "\n",
    "\\begin{align*}\n",
    "\\boldsymbol{y}=\\mathrm{diag}(a_1,\\ldots,a_n)\\boldsymbol{x},\\quad \\boldsymbol{x}\\sim\\mathcal{N}(\\boldsymbol{0}, I)\n",
    "\\end{align*}\n",
    "\n",
    "Then the assumptions of previous simplified maximisation task are satisfied and we should choose the coordinate direction with the higherst scalar $\\mathcal{a}_i$."
   ]
  },
  {
   "cell_type": "markdown",
   "metadata": {},
   "source": [
    "## IV. Solution for scaled and rotated sperical Gaussian noise\n",
    "\n",
    "Let us now assume that the random variable $\\boldsymbol{z}$ is a rotation of $\\boldsymbol{y}$:\n",
    "\n",
    "\\begin{align*}\n",
    " \\boldsymbol{z} = R\\boldsymbol{y}\\enspace.\n",
    "\\end{align*}\n",
    "\n",
    "The distribution of $\\boldsymbol{z}$ is essentially the same except it is described in a coordinates that are rotated. \n",
    "The direction of maximal variance of $\\boldsymbol{z}$ thus corresponds to the rotated direction of maximal variance of $\\boldsymbol{y}$. This allows us to recover information about the rotation matrix $R$. If we consider the second direction that maximises the variance under the assumption that it is orthogonal to the first variance maximising direction and so on we get enough information to recover the entire rotation matrix."
   ]
  },
  {
   "cell_type": "markdown",
   "metadata": {},
   "source": [
    "## V. Solution for linearly transformed spherical Gaussian noise\n",
    "\n",
    "Let us now assume that $\\boldsymbol{z}=A\\boldsymbol{x}$ for $\\boldsymbol{x}\\sim\\mathcal{N}(\\boldsymbol{0}, I)$. Then geometrical considerations allow us to express the same distribution through scaling followed by rotation:\n",
    "\n",
    "\\begin{align*}\n",
    " \\boldsymbol{y} &=\\mathrm{diag}(\\boldsymbol{a})\\boldsymbol{x}',\\\\\n",
    " \\boldsymbol{z} &= R\\boldsymbol{y}\\enspace\n",
    "\\end{align*}\n",
    "\n",
    "for $\\boldsymbol{x}'\\sim\\mathcal{N}(\\boldsymbol{0}, I)$. Thus by looking at the direction of maximal variations we can reconstruct the rotation matrix $R$. We can also recover the scaling vector $\\boldsymbol{a}$ but the decomposition is not unique since mirroring and permutations of coordinates preserves spherical Gaussian noise. Rotations also preserve pherical Gaussian noise. Thus impossible to recover the entire transformation $A$ without additional assumptions."
   ]
  }
 ],
 "metadata": {
  "kernelspec": {
   "display_name": "Python 3 (ipykernel)",
   "language": "python",
   "name": "python3"
  },
  "language_info": {
   "codemirror_mode": {
    "name": "ipython",
    "version": 3
   },
   "file_extension": ".py",
   "mimetype": "text/x-python",
   "name": "python",
   "nbconvert_exporter": "python",
   "pygments_lexer": "ipython3",
   "version": "3.10.16"
  }
 },
 "nbformat": 4,
 "nbformat_minor": 4
}
