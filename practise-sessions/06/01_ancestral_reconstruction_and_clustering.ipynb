{
 "cells": [
  {
   "cell_type": "markdown",
   "metadata": {},
   "source": [
    "# Ancestral reconstruction and clustering\n",
    "\n",
    "Ancestral reconstruction problem naturally emerges in situations where we must identify true original objects from a set of objects created by noisy reproduction procedures:\n",
    "* Find out how species have evolved using DNA samples.\n",
    "* Find out which of the ancient manuscripts is the original.\n",
    "* Find out the source of a gossip and evaluate internet memes. \n",
    "* Find out how academic texts are plagiarised."
   ]
  },
  {
   "cell_type": "code",
   "execution_count": 1,
   "metadata": {},
   "outputs": [],
   "source": [
    "import numpy as np\n",
    "import pandas as pd\n",
    "import numpy.random as rnd\n",
    "import scipy.stats as stats\n",
    "import matplotlib.pyplot as plt\n",
    "import scipy.cluster.hierarchy as hclust \n",
    "import sklearn\n",
    "\n",
    "from pandas import Series\n",
    "from pandas import DataFrame\n",
    "from typing import List,Tuple\n",
    "\n",
    "from pandas import Categorical\n",
    "from pandas.api.types import CategoricalDtype\n",
    "\n",
    "from tqdm import tnrange#, tqdm_notebook\n",
    "from plotnine import *\n",
    "\n",
    "from scipy.stats import norm\n",
    "from scipy.stats import multivariate_normal\n",
    "\n",
    "\n",
    "from sklearn.cluster import AgglomerativeClustering\n",
    "\n",
    "# Local imports\n",
    "from common import *\n",
    "from convenience import *"
   ]
  },
  {
   "cell_type": "markdown",
   "metadata": {},
   "source": [
    "## I. Naive probabilistic model\n",
    "\n",
    "For simplicity, let us consider the case where objects are encoded as binary vectors of fixed length. \n",
    "Let $\\boldsymbol{u}=(u_1,\\ldots,u_n)$ and $\\boldsymbol{v}=(v_1,\\ldots,v_n)$ denote two documents such that $\\boldsymbol{v}$ is generated from $\\boldsymbol{u}$ by a noisy decomposition procedure that flips the values with probability $p$:\n",
    "\n",
    "\\begin{align*}\n",
    "\\begin{aligned}\n",
    "&\\Pr[u_i=0\\to v_i=0]=1-p\\\\\n",
    "&\\Pr[u_i=0\\to v_i=1]=p\n",
    "\\end{aligned}\n",
    "\\qquad\\qquad\n",
    "\\begin{aligned}\n",
    "&\\Pr[u_i=1\\to v_i=0]=p\\\\\n",
    "&\\Pr[u_i=1\\to v_i=1]=1-p\n",
    "\\end{aligned}\n",
    "\\end{align*}"
   ]
  },
  {
   "cell_type": "markdown",
   "metadata": {},
   "source": [
    "Under the assumption that bits $u_i$ are copied independently, the probability that $\\vec{v}$ is generated from $\\vec{u}$ is\n",
    "\n",
    "\\begin{align*}\n",
    "\\Pr[\\boldsymbol{u}\\to\\boldsymbol{v}]=(1-p)^{n-h(\\boldsymbol{u},\\boldsymbol{v})}p^{h(\\boldsymbol{u},\\boldsymbol{v})}\n",
    "\\end{align*}\n",
    "\n",
    "where $h(\\boldsymbol{u},\\boldsymbol{v})$ is Hamming distance.\n",
    "The probability of the entire tree is the product of edge probabilities:\n",
    "\n",
    "\\begin{align*}\n",
    "\\Pr[\\mathcal{T}]=\\prod_{\\boldsymbol{u}\\to\\boldsymbol{v}}\\Pr[\\boldsymbol{u}\\to\\boldsymbol{v}]= \\prod_{\\boldsymbol{u}\\to\\boldsymbol{v}}(1-p)^{n}\\left(\\frac{p}{1-p}\\right)^{h(\\boldsymbol{u},\\boldsymbol{v})}\\,.\n",
    "\\end{align*}\n",
    "\n",
    "By dividing log-likelihood with a constant $n\\cdot\\log(1-p)$ we get a simpler minimisation goal:\n",
    "\n",
    "\\begin{align*}\n",
    "|E|+\\tau(p)\\cdot \\sum_{\\boldsymbol{u}\\to\\boldsymbol{v}} h(\\boldsymbol{u},\\boldsymbol{v})\\to\\min\n",
    "\\end{align*}\n",
    "\n",
    "where  $|E|$ is the number of edges and\n",
    "\n",
    "\\begin{align*}\n",
    "\\tau(p)=\\frac{\\log\\left(\\frac{p}{1-p}\\right)}{n \\cdot \\log(1-p)}\n",
    "=\\frac{1}{n}\\cdot \\Bigl(\\frac{\\log p}{\\log(1-p)}-1\\Bigr)\\,.\n",
    "\\end{align*}\n",
    "\n",
    "This implies that for trees with equal size we should take the one with fewer changes. For different tree sizes, the choice depends on $\\tau(p)$ value. "
   ]
  },
  {
   "cell_type": "markdown",
   "metadata": {},
   "source": [
    "# Homework"
   ]
  },
  {
   "cell_type": "markdown",
   "metadata": {},
   "source": [
    "## 1.1 Optimal solution for fixed task (<font color='red'>2p</font>)\n",
    "Let $0010$, $1011$, $1001$, $0011$, $1011$ represent features present or missing in variations of the same text coming from different sources. Find out the most probable history based on the naive mutation model. Recall that the maximal likelihood solution can be found by solving the minimisation task:\n",
    "\\begin{align*}\n",
    "|E|+\\tau(p)\\cdot\\sum_{\\boldsymbol{u}\\to\\boldsymbol{v}} h(\\boldsymbol{u},\\boldsymbol{v})\\to \\min\\,.\n",
    "\\end{align*} \n",
    "Find an optimal solution for each tree size $|E|=6,\\ldots, 16$ and corresponding regions of mutation probabilities $p_k\\in[a_k,b_k]$ where the tree of size $k$ provides an optimal solution."
   ]
  },
  {
   "cell_type": "markdown",
   "metadata": {},
   "source": [
    "## 1.2 Hierarchical clustering as an approximation to ancestral reconstruction (<font color='red'>2p</font>)\n",
    "\n",
    "First implement the naive mutation model as `generate_data`. For that you need to fix the number of child nodes for each document. Assume that the number of children follows Poisson distribution with expected number of children 2. Use Hamming distance in the clustering algorithm and try out different clustering methods from [`scipy.cluster.hierarchy.linkage`](https://docs.scipy.org/doc/scipy/reference/generated/scipy.cluster.hierarchy.linkage.html#scipy.cluster.hierarchy.linkage). Define goodness of clustering using [Robinson–Foulds metric](https://en.wikipedia.org/wiki/Robinson–Foulds_metric). The latter has an implementation in `ete3` package. "
   ]
  },
  {
   "cell_type": "code",
   "execution_count": 23,
   "metadata": {},
   "outputs": [
    {
     "name": "stdout",
     "output_type": "stream",
     "text": [
      "Normalised RF-metric 0.25\n"
     ]
    }
   ],
   "source": [
    "from ete3 import Tree\n",
    "t1 = Tree('(((a,b),c), ((e, f), g));')\n",
    "t2 = Tree('(((a,c),b), ((e, f), g));')\n",
    "print('Normalised RF-metric {:.2f}'.format(t1.compare(t2)['norm_rf']))"
   ]
  }
 ],
 "metadata": {
  "kernelspec": {
   "display_name": "Python 3 (ipykernel)",
   "language": "python",
   "name": "python3"
  },
  "language_info": {
   "codemirror_mode": {
    "name": "ipython",
    "version": 3
   },
   "file_extension": ".py",
   "mimetype": "text/x-python",
   "name": "python",
   "nbconvert_exporter": "python",
   "pygments_lexer": "ipython3",
   "version": "3.10.16"
  }
 },
 "nbformat": 4,
 "nbformat_minor": 4
}
